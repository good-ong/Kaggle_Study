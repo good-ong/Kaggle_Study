{
 "cells": [
  {
   "cell_type": "markdown",
   "metadata": {},
   "source": [
    "# <div align=\"center\">Level 1. Titanic: Machine Learning form Disaster</div>\n",
    "## <div align=\"center\">4. Introduction to Ensembling/Stacking in Python</div>\n",
    "### <div align=\"center\"> 제작자 : 김규동 </div>\n",
    "### <div align=\"center\"> 제작 시작 : 2020. 1. 15. 17:40 PM <br> 최종 수정 : 2019. 1. 15. 19:40 PM</div>"
   ]
  },
  {
   "cell_type": "markdown",
   "metadata": {},
   "source": [
    "-----------------------------------------------------------------------------------------------------------\n",
    "<a id=\"0\"></a> <br>\n",
    "# 목차\n",
    "1. [소개](#1)\n",
    "<br><br>\n",
    "1. [변수 분석, 전처리, Engineering](#2)\n",
    "    1. [Feature Engineering](#3)\n",
    "    1. [시각화](#4)\n",
    "<br><br>\n",
    "1. [앙상블 및 스택 모델](#5)\n",
    "    1. [Python 클래스를 통한 도움말](#6)\n",
    "    1. [예측 불가](#7)\n",
    "<br><br>\n",
    "1. [1단계 : 모델 생성](#8)\n",
    "    1. [파라미터 이해하기](#9)\n",
    "    1. [훈련 데이터 및 테스트 데이터에서 NumPy를 이용한 array 생성](#10)\n",
    "    1. [1단계 예측 결과](#11)\n",
    "    1. [서로 다른 분류기로부터 생성된 변수의 중요도](#12)\n",
    "    1. [Plotly 산점도 그림을 통한 반응적 변수의 중요도](#13)\n",
    "    1. [평균 변수의 중요도의 Plotly 막대그래프](#14)\n",
    "<br><br>\n",
    "1. [2단계 : 1단계 출력값으로부터의 예측](#15)\n",
    "    1. [새 변수로 첫 번째 레벨 출력](#16)\n",
    "    1. [2번째 수준의 훈련 데이터셋에 대한 상관관계 히트맵](#17)\n",
    "    1. [XGBoost를 통한 2레벨의 학습 모델](#18)\n",
    "    1. [제출파일 작성](#19)\n",
    "<br><br>\n",
    "1. [결과](#20)"
   ]
  },
  {
   "cell_type": "markdown",
   "metadata": {
    "_cell_guid": "bc64948f-5d6a-078d-085d-1beb58687bd3",
    "_uuid": "e919d1161f20999e599ba1fd66a5a45b9c82f229"
   },
   "source": [
    "[목차로](#0)\n",
    "\n",
    "------------------------------------------------------------------------------------------------\n",
    "<a id=\"1\"></a> <br>\n",
    "# 1. 소개\n",
    "\n",
    "이 노트북은 기초 학습 모델, 특히 스택으로 알려진 앙상블의 변형에 대한 매우 기본적이고 단순한 입문 프라이머입니다.<br>\n",
    "간단히 말하면, 1단계(베이스)로서 적층 용도를 사용하는 경우, 몇 가지 기본 분류기의 예측을 한 다음,<br>\n",
    "2단계에서 다른 모델을 사용하여 이전의 1단계 예측으로부터 산출물을 예측합니다.\n",
    "\n",
    "Kaggle의 많은 신인들이 타이타닉 데이터셋에서부터 시작하기 때문에 이 개념을 도입하는 데 있어 가장 유력한 후보지입니다.<br>\n",
    "비록 많은 팀이 Kaggle Competition에서 우승한 경험은 있으나, 이 주제에 대한 알맹이가 부족한 것 같아,<br>\n",
    "이 공책이 그 공백을 어느 정도 메울 수 있기를 바랍니다.\n",
    "\n",
    "저자도 이 커널을 작성할 당시 Kaggle에 새로 들어온 사람입니다.<br>\n",
    "저자가 우연히 알게 된 첫 번째 적절한 앙상블/추적 커널은 Faron의 'AllState Severity Claims competition'에 쓰여진 것이었다고 합니다.<br>\n",
    "이 노트북의 자료도 Faron의 커널에서 많이 빌려온 것이라고 합니다.<br>\n",
    "그가 퇴행자의 앙상블이었을 때 분류자의 앙상블을 고려하기 위해 배치되었습니다.\n",
    "\n",
    "그의 자세한 스크립트에 대한 것은 아래 주소를 참고하기 바랍니다.\n",
    "\n",
    "[Stacking Starter][21] : by Faron \n",
    "\n",
    "이제 손에 들고 있는 노트북에, 증명할 수 있고, 직관적이고, 간결한 방식으로 앙상블의 개념을 전달하기를 바랍니다.<br>\n",
    "아래에 설명된 것과 정확히 동일한 앙상블 단계를 구현하는 저자의 다른 독립형 [Kaggle 커널][22]은<br>\n",
    "상위 9%까지 도달할 수 있을 만큼 충분한 0.808의 공개 LB 점수를 제공합니다.<br>\n",
    "그러므로 저는 그 대본을 개선하고 추가할 여지가 많다고 확신합니다.<br>\n",
    "어쨌든, 제가 어떻게 개선할 수 있는지에 대한 의견을 자유롭게 남겨주길 바랍니다.\n",
    "\n",
    "[21]: https://www.kaggle.com/mmueller/allstate-claims-severity/stacking-starter/run/390867\n",
    "[22]: https://www.kaggle.com/arthurtok/titanic/simple-stacking-with-xgboost-0-808"
   ]
  },
  {
   "cell_type": "code",
   "execution_count": 1,
   "metadata": {
    "_cell_guid": "14630296-b1aa-759e-bafa-b6a73f3896ed",
    "_execution_state": "idle",
    "_uuid": "2e37a274400cfeb472b6405d524325245588dd66",
    "collapsed": true
   },
   "outputs": [
    {
     "data": {
      "text/html": [
       "<script>requirejs.config({paths: { 'plotly': ['https://cdn.plot.ly/plotly-latest.min']},});if(!window.Plotly) {{require(['plotly'],function(plotly) {window.Plotly=plotly;});}}</script>"
      ],
      "text/vnd.plotly.v1+html": [
       "<script>requirejs.config({paths: { 'plotly': ['https://cdn.plot.ly/plotly-latest.min']},});if(!window.Plotly) {{require(['plotly'],function(plotly) {window.Plotly=plotly;});}}</script>"
      ]
     },
     "metadata": {},
     "output_type": "display_data"
    }
   ],
   "source": [
    "# Load in our libraries\n",
    "import pandas as pd\n",
    "import numpy as np\n",
    "import re\n",
    "import sklearn\n",
    "import xgboost as xgb\n",
    "import seaborn as sns\n",
    "import matplotlib.pyplot as plt\n",
    "%matplotlib inline\n",
    "\n",
    "import plotly.offline as py\n",
    "py.init_notebook_mode(connected=True)\n",
    "import plotly.graph_objs as go\n",
    "import plotly.tools as tls\n",
    "\n",
    "import warnings\n",
    "warnings.filterwarnings('ignore')\n",
    "\n",
    "# 5개의 모델을 교차 검증하며 사용해볼 것입니다.\n",
    "from sklearn.ensemble import (RandomForestClassifier, AdaBoostClassifier, \n",
    "                              GradientBoostingClassifier, ExtraTreesClassifier)\n",
    "from sklearn.svm import SVC\n",
    "from sklearn.cross_validation import KFold"
   ]
  },
  {
   "cell_type": "markdown",
   "metadata": {
    "_cell_guid": "d647b74c-099b-851a-dcd2-3a58c9e8f10c",
    "_uuid": "8b590aafe06a2ac55daae9d2456155e457914f5f"
   },
   "source": [
    "[목차로](#0)\n",
    "\n",
    "------------------------------------------------------------------------------------------------\n",
    "<a id=\"2\"></a> <br>\n",
    "# 2. 변수 분석, 전처리, Engineering\n",
    "\n",
    "이제 우리는 대부분의 커널을 구조화된 방식과 같이 진행해 나갈 것입니다.\n",
    "\n",
    "먼저 손에 잡히는 데이터를 살펴보고, 가능한 형상 공학적 기회를 식별하고, 어떤 범주형 특징을 수치적으로 인코딩하는 것입니다."
   ]
  },
  {
   "cell_type": "code",
   "execution_count": 2,
   "metadata": {
    "_cell_guid": "5937fd72-d1ad-f678-cc82-f08a96e4cad0",
    "_execution_state": "idle",
    "_uuid": "b2ad78041b69ce13d1f41bd9bc8c93cafaf7b8ac",
    "collapsed": true
   },
   "outputs": [
    {
     "data": {
      "text/html": [
       "<div>\n",
       "<style scoped>\n",
       "    .dataframe tbody tr th:only-of-type {\n",
       "        vertical-align: middle;\n",
       "    }\n",
       "\n",
       "    .dataframe tbody tr th {\n",
       "        vertical-align: top;\n",
       "    }\n",
       "\n",
       "    .dataframe thead th {\n",
       "        text-align: right;\n",
       "    }\n",
       "</style>\n",
       "<table border=\"1\" class=\"dataframe\">\n",
       "  <thead>\n",
       "    <tr style=\"text-align: right;\">\n",
       "      <th></th>\n",
       "      <th>PassengerId</th>\n",
       "      <th>Survived</th>\n",
       "      <th>Pclass</th>\n",
       "      <th>Name</th>\n",
       "      <th>Sex</th>\n",
       "      <th>Age</th>\n",
       "      <th>SibSp</th>\n",
       "      <th>Parch</th>\n",
       "      <th>Ticket</th>\n",
       "      <th>Fare</th>\n",
       "      <th>Cabin</th>\n",
       "      <th>Embarked</th>\n",
       "    </tr>\n",
       "  </thead>\n",
       "  <tbody>\n",
       "    <tr>\n",
       "      <th>0</th>\n",
       "      <td>1</td>\n",
       "      <td>0</td>\n",
       "      <td>3</td>\n",
       "      <td>Braund, Mr. Owen Harris</td>\n",
       "      <td>male</td>\n",
       "      <td>22.0</td>\n",
       "      <td>1</td>\n",
       "      <td>0</td>\n",
       "      <td>A/5 21171</td>\n",
       "      <td>7.2500</td>\n",
       "      <td>NaN</td>\n",
       "      <td>S</td>\n",
       "    </tr>\n",
       "    <tr>\n",
       "      <th>1</th>\n",
       "      <td>2</td>\n",
       "      <td>1</td>\n",
       "      <td>1</td>\n",
       "      <td>Cumings, Mrs. John Bradley (Florence Briggs Th...</td>\n",
       "      <td>female</td>\n",
       "      <td>38.0</td>\n",
       "      <td>1</td>\n",
       "      <td>0</td>\n",
       "      <td>PC 17599</td>\n",
       "      <td>71.2833</td>\n",
       "      <td>C85</td>\n",
       "      <td>C</td>\n",
       "    </tr>\n",
       "    <tr>\n",
       "      <th>2</th>\n",
       "      <td>3</td>\n",
       "      <td>1</td>\n",
       "      <td>3</td>\n",
       "      <td>Heikkinen, Miss. Laina</td>\n",
       "      <td>female</td>\n",
       "      <td>26.0</td>\n",
       "      <td>0</td>\n",
       "      <td>0</td>\n",
       "      <td>STON/O2. 3101282</td>\n",
       "      <td>7.9250</td>\n",
       "      <td>NaN</td>\n",
       "      <td>S</td>\n",
       "    </tr>\n",
       "  </tbody>\n",
       "</table>\n",
       "</div>"
      ],
      "text/plain": [
       "   PassengerId  Survived  Pclass    ...        Fare Cabin  Embarked\n",
       "0            1         0       3    ...      7.2500   NaN         S\n",
       "1            2         1       1    ...     71.2833   C85         C\n",
       "2            3         1       3    ...      7.9250   NaN         S\n",
       "\n",
       "[3 rows x 12 columns]"
      ]
     },
     "execution_count": 2,
     "metadata": {},
     "output_type": "execute_result"
    }
   ],
   "source": [
    "# 훈련 데이터 및 테스트 데이터 불러오기\n",
    "train = pd.read_csv('../input/train.csv')\n",
    "test = pd.read_csv('../input/test.csv')\n",
    "\n",
    "# passengerID를 다른 변수로 저장\n",
    "PassengerId = test['PassengerId']\n",
    "\n",
    "train.head(3)"
   ]
  },
  {
   "cell_type": "markdown",
   "metadata": {
    "_cell_guid": "dff1c1dd-1e59-3907-88fa-1a1d699122be",
    "_uuid": "81378834770e55c76751347588322fe32acf5737"
   },
   "source": [
    "우리의 임무는, 어떻게 해서든 범주형 변수에서 정보를 추출하는 것이라는 것입니다.\n",
    "\n",
    "<a id=\"3\"></a> <br>\n",
    "## 2-1. Feature Engineering\n",
    "\n",
    "여기서, Feature Engineering 아이디어에 대한 Sina의 매우 포괄적이고 잘 생각한 노트북에 크레딧이 확장되어야 하므로, 그의 작품을 확인해 보시기 바랍니다.\n",
    "\n",
    "[Titanic Best Working Classfier][23] : by Sina\n",
    "\n",
    "\n",
    "  [23]: https://www.kaggle.com/sinakhorami/titanic/titanic-best-working-classifier"
   ]
  },
  {
   "cell_type": "code",
   "execution_count": 3,
   "metadata": {
    "collapsed": true
   },
   "outputs": [],
   "source": [
    "full_data = [train, test]\n",
    "\n",
    "# 저자가 별도로 추가한 몇몇 특징\n",
    "\n",
    "## a. 이름 길이 부여\n",
    "train['Name_length'] = train['Name'].apply(len)\n",
    "test['Name_length'] = test['Name'].apply(len)\n",
    "\n",
    "## b. 승객이 타이타닉에 Cabin을 가지고 있었는지 여부를 알려주는 변수\n",
    "train['Has_Cabin'] = train[\"Cabin\"].apply(lambda x: 0 if type(x) == float else 1)\n",
    "test['Has_Cabin'] = test[\"Cabin\"].apply(lambda x: 0 if type(x) == float else 1)"
   ]
  },
  {
   "cell_type": "code",
   "execution_count": 4,
   "metadata": {
    "collapsed": true
   },
   "outputs": [],
   "source": [
    "# Sina에 의한 Feature engineering 단계\n",
    "\n",
    "## a. SibSp와 Parch의 결합으로 FamilySize라는 새로운 변수 생성\n",
    "for dataset in full_data:\n",
    "    dataset['FamilySize'] = dataset['SibSp'] + dataset['Parch'] + 1"
   ]
  },
  {
   "cell_type": "code",
   "execution_count": 5,
   "metadata": {
    "collapsed": true
   },
   "outputs": [],
   "source": [
    "## b. FamilySize로부터 IsAlone(독신 여부)라는 새로운 변수 생성\n",
    "for dataset in full_data:\n",
    "    dataset['IsAlone'] = 0\n",
    "    dataset.loc[dataset['FamilySize'] == 1, 'IsAlone'] = 1"
   ]
  },
  {
   "cell_type": "code",
   "execution_count": 6,
   "metadata": {
    "collapsed": true
   },
   "outputs": [],
   "source": [
    "## c. Embarked 열에서 모든 Null값 제거('S'라는 값으로 다 채우게 됨)\n",
    "for dataset in full_data:\n",
    "    dataset['Embarked'] = dataset['Embarked'].fillna('S')"
   ]
  },
  {
   "cell_type": "code",
   "execution_count": 7,
   "metadata": {
    "collapsed": true
   },
   "outputs": [],
   "source": [
    "## d. Fare 열에서 모든 Null값 제거 및 CategoricalFare라는 새로운 변수 생성\n",
    "for dataset in full_data:\n",
    "    dataset['Fare'] = dataset['Fare'].fillna(train['Fare'].median())\n",
    "train['CategoricalFare'] = pd.qcut(train['Fare'], 4)"
   ]
  },
  {
   "cell_type": "code",
   "execution_count": 8,
   "metadata": {
    "collapsed": true
   },
   "outputs": [],
   "source": [
    "## e. CagegoricalAge라는 새로운 변수 생성\n",
    "for dataset in full_data:\n",
    "    age_avg = dataset['Age'].mean()\n",
    "    age_std = dataset['Age'].std()\n",
    "    age_null_count = dataset['Age'].isnull().sum()\n",
    "    age_null_random_list = np.random.randint(age_avg - age_std, age_avg + age_std, size=age_null_count)\n",
    "    dataset['Age'][np.isnan(dataset['Age'])] = age_null_random_list\n",
    "    dataset['Age'] = dataset['Age'].astype(int)\n",
    "train['CategoricalAge'] = pd.cut(train['Age'], 5)"
   ]
  },
  {
   "cell_type": "code",
   "execution_count": 9,
   "metadata": {
    "collapsed": true
   },
   "outputs": [],
   "source": [
    "## f. 승객 이름의 title 추출하는 함수 정의\n",
    "def get_title(name):\n",
    "    title_search = re.search(' ([A-Za-z]+)\\.', name)\n",
    "    # If the title exists, extract and return it.\n",
    "    if title_search:\n",
    "        return title_search.group(1)\n",
    "    return \"\""
   ]
  },
  {
   "cell_type": "code",
   "execution_count": 10,
   "metadata": {
    "collapsed": true
   },
   "outputs": [],
   "source": [
    "## g. Title(승객 이름의 title을 포함)이라는 새로운 변수 생성\n",
    "for dataset in full_data:\n",
    "    dataset['Title'] = dataset['Name'].apply(get_title)"
   ]
  },
  {
   "cell_type": "code",
   "execution_count": 11,
   "metadata": {
    "collapsed": true
   },
   "outputs": [],
   "source": [
    "## h. 독특한 타이틀은 하나의 새로운 그룹인 'Rare'로 그룹화\n",
    "for dataset in full_data:\n",
    "    dataset['Title'] = dataset['Title'].replace(['Lady', 'Countess','Capt', 'Col','Don', 'Dr',\n",
    "                                                 'Major', 'Rev', 'Sir', 'Jonkheer', 'Dona'], 'Rare')\n",
    "    dataset['Title'] = dataset['Title'].replace('Mlle', 'Miss')\n",
    "    dataset['Title'] = dataset['Title'].replace('Ms', 'Miss')\n",
    "    dataset['Title'] = dataset['Title'].replace('Mme', 'Mrs')"
   ]
  },
  {
   "cell_type": "code",
   "execution_count": 12,
   "metadata": {
    "_cell_guid": "e85b2a80-88a4-928f-f2b2-24895dea38f3",
    "_execution_state": "idle",
    "_uuid": "b1c67249f91768ce8e5e2751364d32c87446cf55",
    "collapsed": true
   },
   "outputs": [],
   "source": [
    "for dataset in full_data:\n",
    "    # Mapping Sex\n",
    "    dataset['Sex'] = dataset['Sex'].map( {'female': 0, 'male': 1} ).astype(int)\n",
    "    \n",
    "    # Mapping titles\n",
    "    title_mapping = {\"Mr\": 1, \"Miss\": 2, \"Mrs\": 3, \"Master\": 4, \"Rare\": 5}\n",
    "    dataset['Title'] = dataset['Title'].map(title_mapping)\n",
    "    dataset['Title'] = dataset['Title'].fillna(0)\n",
    "    \n",
    "    # Mapping Embarked\n",
    "    dataset['Embarked'] = dataset['Embarked'].map( {'S': 0, 'C': 1, 'Q': 2} ).astype(int)\n",
    "    \n",
    "    # Mapping Fare\n",
    "    dataset.loc[ dataset['Fare'] <= 7.91, 'Fare'] \t\t\t\t\t\t        = 0\n",
    "    dataset.loc[(dataset['Fare'] > 7.91) & (dataset['Fare'] <= 14.454), 'Fare'] = 1\n",
    "    dataset.loc[(dataset['Fare'] > 14.454) & (dataset['Fare'] <= 31), 'Fare']   = 2\n",
    "    dataset.loc[ dataset['Fare'] > 31, 'Fare'] \t\t\t\t\t\t\t        = 3\n",
    "    dataset['Fare'] = dataset['Fare'].astype(int)\n",
    "    \n",
    "    # Mapping Age\n",
    "    dataset.loc[ dataset['Age'] <= 16, 'Age'] \t\t\t\t\t       = 0\n",
    "    dataset.loc[(dataset['Age'] > 16) & (dataset['Age'] <= 32), 'Age'] = 1\n",
    "    dataset.loc[(dataset['Age'] > 32) & (dataset['Age'] <= 48), 'Age'] = 2\n",
    "    dataset.loc[(dataset['Age'] > 48) & (dataset['Age'] <= 64), 'Age'] = 3\n",
    "    dataset.loc[ dataset['Age'] > 64, 'Age'] = 4 ;"
   ]
  },
  {
   "cell_type": "code",
   "execution_count": 13,
   "metadata": {
    "_cell_guid": "8fc645ba-4b38-cea7-17b3-02175cb103d9",
    "_execution_state": "idle",
    "_uuid": "ca2d48b03d45f914db2ee9ae3ee95aad8fb20431",
    "collapsed": true
   },
   "outputs": [],
   "source": [
    "# 변수 선택\n",
    "drop_elements = ['PassengerId', 'Name', 'Ticket', 'Cabin', 'SibSp']\n",
    "train = train.drop(drop_elements, axis = 1)\n",
    "train = train.drop(['CategoricalAge', 'CategoricalFare'], axis = 1)\n",
    "test  = test.drop(drop_elements, axis = 1)"
   ]
  },
  {
   "cell_type": "markdown",
   "metadata": {
    "_cell_guid": "e9814168-b7cd-d4e4-1b1d-e21c6637a663",
    "_uuid": "dd288776321804d99e4e4a7e88594c1d631e4409"
   },
   "source": [
    "변수들을 청소하고 관련 정보를 추출하고 범주형 열을 삭제했으니, 이제 우리의 기계 학습 모델에 적합한 형식이 되게 만들어야 합니다.<br>\n",
    "그러나 진행하기 전에 변환된 데이터 세트의 간단한 상관 관계 및 분포도를 생성하여 그 양상을 관찰할 필요가 있습니다.\n",
    "<a id=\"4\"></a> <br>\n",
    "## 2-2. 시각화"
   ]
  },
  {
   "cell_type": "code",
   "execution_count": 14,
   "metadata": {
    "_cell_guid": "fc426b8f-873d-6f23-4299-99f174956cca",
    "_execution_state": "idle",
    "_uuid": "1f280a1c11dc35a93b57af494938998e6d0b4544",
    "collapsed": true
   },
   "outputs": [
    {
     "data": {
      "text/html": [
       "<div>\n",
       "<style scoped>\n",
       "    .dataframe tbody tr th:only-of-type {\n",
       "        vertical-align: middle;\n",
       "    }\n",
       "\n",
       "    .dataframe tbody tr th {\n",
       "        vertical-align: top;\n",
       "    }\n",
       "\n",
       "    .dataframe thead th {\n",
       "        text-align: right;\n",
       "    }\n",
       "</style>\n",
       "<table border=\"1\" class=\"dataframe\">\n",
       "  <thead>\n",
       "    <tr style=\"text-align: right;\">\n",
       "      <th></th>\n",
       "      <th>Survived</th>\n",
       "      <th>Pclass</th>\n",
       "      <th>Sex</th>\n",
       "      <th>Age</th>\n",
       "      <th>Parch</th>\n",
       "      <th>Fare</th>\n",
       "      <th>Embarked</th>\n",
       "      <th>Name_length</th>\n",
       "      <th>Has_Cabin</th>\n",
       "      <th>FamilySize</th>\n",
       "      <th>IsAlone</th>\n",
       "      <th>Title</th>\n",
       "    </tr>\n",
       "  </thead>\n",
       "  <tbody>\n",
       "    <tr>\n",
       "      <th>0</th>\n",
       "      <td>0</td>\n",
       "      <td>3</td>\n",
       "      <td>1</td>\n",
       "      <td>1</td>\n",
       "      <td>0</td>\n",
       "      <td>0</td>\n",
       "      <td>0</td>\n",
       "      <td>23</td>\n",
       "      <td>0</td>\n",
       "      <td>2</td>\n",
       "      <td>0</td>\n",
       "      <td>1</td>\n",
       "    </tr>\n",
       "    <tr>\n",
       "      <th>1</th>\n",
       "      <td>1</td>\n",
       "      <td>1</td>\n",
       "      <td>0</td>\n",
       "      <td>2</td>\n",
       "      <td>0</td>\n",
       "      <td>3</td>\n",
       "      <td>1</td>\n",
       "      <td>51</td>\n",
       "      <td>1</td>\n",
       "      <td>2</td>\n",
       "      <td>0</td>\n",
       "      <td>3</td>\n",
       "    </tr>\n",
       "    <tr>\n",
       "      <th>2</th>\n",
       "      <td>1</td>\n",
       "      <td>3</td>\n",
       "      <td>0</td>\n",
       "      <td>1</td>\n",
       "      <td>0</td>\n",
       "      <td>1</td>\n",
       "      <td>0</td>\n",
       "      <td>22</td>\n",
       "      <td>0</td>\n",
       "      <td>1</td>\n",
       "      <td>1</td>\n",
       "      <td>2</td>\n",
       "    </tr>\n",
       "  </tbody>\n",
       "</table>\n",
       "</div>"
      ],
      "text/plain": [
       "   Survived  Pclass  Sex  Age  ...    Has_Cabin  FamilySize  IsAlone  Title\n",
       "0         0       3    1    1  ...            0           2        0      1\n",
       "1         1       1    0    2  ...            1           2        0      3\n",
       "2         1       3    0    1  ...            0           1        1      2\n",
       "\n",
       "[3 rows x 12 columns]"
      ]
     },
     "execution_count": 14,
     "metadata": {},
     "output_type": "execute_result"
    }
   ],
   "source": [
    "train.head(3)"
   ]
  },
  {
   "cell_type": "markdown",
   "metadata": {
    "_cell_guid": "41102927-8218-415a-0b73-5129c8f5dd0c",
    "_uuid": "3544b03040a1d691f6c48433c84d1e57f3c15e3d"
   },
   "source": [
    "**피어슨 상관관계 히트맵**\n",
    "\n",
    "한 변수가 다른 변수들과 얼마나 관련이 있는지 알아보기 위해 변수의 상관 관계를 몇 가지 생성해 봅시다.<br>\n",
    "이를 위해 우리는 다음과 같이 매우 편리하게 히트맵을 그릴 수 있는 Seaborn 패키지를 이용할 것입니다."
   ]
  },
  {
   "cell_type": "code",
   "execution_count": 15,
   "metadata": {
    "_cell_guid": "af2eba12-b836-42a1-9ff3-d7a55bec8f9d",
    "_uuid": "b6142da58d9515979930abee19549aacf7f62c9f",
    "collapsed": true
   },
   "outputs": [
    {
     "data": {
      "text/plain": [
       "<matplotlib.axes._subplots.AxesSubplot at 0x7fbbec8696a0>"
      ]
     },
     "execution_count": 15,
     "metadata": {},
     "output_type": "execute_result"
    },
    {
     "data": {
      "image/png": "[encoded data removed]",
      "text/plain": [
       "<matplotlib.figure.Figure at 0x7fbbec869240>"
      ]
     },
     "metadata": {},
     "output_type": "display_data"
    }
   ],
   "source": [
    "colormap = plt.cm.RdBu\n",
    "plt.figure(figsize=(14,12))\n",
    "plt.title('Pearson Correlation of Features', y=1.05, size=15)\n",
    "sns.heatmap(train.astype(float).corr(),linewidths=0.1,vmax=1.0, \n",
    "            square=True, cmap=colormap, linecolor='white', annot=True)"
   ]
  },
  {
   "cell_type": "markdown",
   "metadata": {
    "_cell_guid": "ccc92745-0680-df4d-d709-10003475d8e3",
    "_uuid": "b6c7a1ea3866d177016a1e13c5d9e7341c49c147"
   },
   "source": [
    "** 그래프 보기 **\n",
    "\n",
    "피어스 상관관계 그림이 우리에게 말해 줄 수 있는 한 가지는 '서로 강하게 상관되는 특징들이 너무 많지 않다'는 것입니다.<br>\n",
    "이러한 양상은 학습 모델에 제공하는 관점에서 좋은 것으로, 훈련 데이터에는 중복되거나 불필요한 데이터가 별로 없다는 것을 의미합니다.\n",
    "또 우리는 각 변수가 어떤 독특한 정보를 가지고 있다는 것을 알아챌 수 있습니다.<br>\n",
    "다음은 FamilySize와 Parch(부모와 자녀)의 두 가지 상관관계가 있습니다. 연습을 위해 두 가지 특징을 모두 그대로 둘 것입니다.\n",
    "\n",
    "** Pairplots **\n",
    "\n",
    "마지막으로 한 변수에서 다른 변수로의 데이터 분포를 관찰할 수 있는 몇 가지 페어 플롯을 생성해 봅시다.<br>\n",
    "다시 한번 우리는 Seaborn을 사용할 것입니다."
   ]
  },
  {
   "cell_type": "code",
   "execution_count": 16,
   "metadata": {
    "_cell_guid": "ea6b0a8f-5a33-666f-8057-c0d689f370f5",
    "_execution_state": "idle",
    "_uuid": "624446543aafd518025fd3f5346d32ee1aab6f9a",
    "collapsed": true
   },
   "outputs": [
    {
     "data": {
      "text/plain": [
       "<seaborn.axisgrid.PairGrid at 0x7fbbe8ae50f0>"
      ]
     },
     "execution_count": 16,
     "metadata": {},
     "output_type": "execute_result"
    },
    {
     "data": {
      "image/png": "[encoded data removed]",
      "text/plain": [
       "<matplotlib.figure.Figure at 0x7fbbe8ae5080>"
      ]
     },
     "metadata": {},
     "output_type": "display_data"
    }
   ],
   "source": [
    "g = sns.pairplot(train[[u'Survived', u'Pclass', u'Sex', u'Age', u'Parch', u'Fare', u'Embarked',\n",
    "       u'FamilySize', u'Title']], hue='Survived', palette = 'seismic',size=1.2,diag_kind = 'kde',diag_kws=dict(shade=True),plot_kws=dict(s=10) )\n",
    "g.set(xticklabels=[])"
   ]
  },
  {
   "cell_type": "markdown",
   "metadata": {
    "_cell_guid": "32ac3ce1-42bc-9a7d-44f3-4b7c025a921c",
    "_uuid": "b74f445f5d9fb9622c4609c00679254abb3c91b1"
   },
   "source": [
    "[목차로](#0)\n",
    "\n",
    "------------------------------------------------------------------------------------------------\n",
    "<a id=\"5\"></a> <br>\n",
    "# 3. 앙상블 및 스택 모델\n",
    "\n",
    "우리는 마침내 이 노트의 핵심에 도달했습니다.\n",
    "\n",
    "스택 앙상블 만들기!"
   ]
  },
  {
   "cell_type": "markdown",
   "metadata": {
    "_cell_guid": "3e922821-5a10-040b-305a-c2d47d633c49",
    "_uuid": "4e5fda8c6c92fc3cdf8e906089494f80e7c37245"
   },
   "source": [
    "<a id=\"6\"></a> <br>\n",
    "## 3-1. Python 클래스를 통한 도움말\n",
    "\n",
    "여기서 우리는 우리에게 더 편리하게 하기 위해 파이썬의 수업을 사용하게 됩니다.\n",
    "\n",
    "프로그래밍을 처음 시작한 사람에게는 일반적으로 OOP(Object-Oriented Programming)와 함께 클래스가 사용되는 것을 듣습니다.<br>\n",
    "요컨대, 클래스는 객체(구식 핍에 대한 변수)를 작성하기 위한 일부 코드/프로그램을 확장하고 해당 클래스에 특정한 기능과 방법을 구현하는 데 도움이 됩니다.\n",
    "\n",
    "아래 코드 섹션에서는 기본적으로 모든 Sklearn 분류기에 공통적으로 사용되는 내장 방법(예: 훈련 데이터 예측 및 적합)<br>\n",
    "을 확장할 수 있는 *SklearnHelper* 클래스를 작성합니다.<br>\n",
    "따라서 우리가 다섯 개의 다른 분류기를 호출하고 싶다면, 동일한 방법을 다섯 번 쓸 필요가 없기 때문에 중복성을 배제합니다."
   ]
  },
  {
   "cell_type": "code",
   "execution_count": 17,
   "metadata": {
    "collapsed": true
   },
   "outputs": [],
   "source": [
    "# 나중에 유용하게 쓰일 몇 가지 유용한 매개 변수\n",
    "ntrain = train.shape[0]\n",
    "ntest = test.shape[0]\n",
    "SEED = 0 # for reproducibility\n",
    "NFOLDS = 5 # set folds for out-of-fold prediction\n",
    "kf = KFold(ntrain, n_folds= NFOLDS, random_state=SEED)"
   ]
  },
  {
   "cell_type": "code",
   "execution_count": 18,
   "metadata": {
    "_cell_guid": "c017c078-172d-16e9-65f2-4a01c6e0626f",
    "_uuid": "04d921ea89a0560cf010e956e4065bb2eaf21619",
    "collapsed": true
   },
   "outputs": [],
   "source": [
    "# Sklearn 분류기를 확장하는 클래스 생성\n",
    "class SklearnHelper(object):\n",
    "    def __init__(self, clf, seed=0, params=None):\n",
    "        params['random_state'] = seed\n",
    "        self.clf = clf(**params)\n",
    "\n",
    "    def train(self, x_train, y_train):\n",
    "        self.clf.fit(x_train, y_train)\n",
    "\n",
    "    def predict(self, x):\n",
    "        return self.clf.predict(x)\n",
    "    \n",
    "    def fit(self,x,y):\n",
    "        return self.clf.fit(x,y)\n",
    "    \n",
    "    def feature_importances(self,x,y):\n",
    "        print(self.clf.fit(x,y).feature_importances_)\n",
    "    \n",
    "# Class to extend XGboost classifer"
   ]
  },
  {
   "cell_type": "markdown",
   "metadata": {
    "_cell_guid": "75f59fa7-65a4-e53e-95df-4c747a608408",
    "_uuid": "634199a5b36cba6b4d85db2c0401426a58b95279"
   },
   "source": [
    "이미 이것을 알고 있는 사람들을 위해서, 그러나 이전에 파이썬에서 클래스나 오브젝트를 만들지 않은 사람들을 위해서,<br>\n",
    "저는 위에 주어진 코드가 무엇을 하는지 설명해 드리겠습니다.\n",
    "\n",
    "기본 분류기를 만들 때, 저는 sklearn library에 이미 있는 모델만 사용할 것이고, 따라서 그것을 위한 수업만 연장할 것입니다.\n",
    "\n",
    "**def init** : 클래스에 대한 기본 생성자를 호출하기 위한 Python 표준.<br>\n",
    "즉, 객체(분류기)를 만들려면 clf(어떤 스키어 분류기를 원하는지), seed(랜덤 시드), param(분류기용 매개변수)의 파라미터를 부여해야 합니다.\n",
    "\n",
    "나머지 코드는 단순히 sklearn 분류기 내에 이미 존재하는 해당 방법을 부르는 클래스의 방법일 뿐입니다.<br>\n",
    "기본적으로, 우리는 다양한 Sklearn 분류기를 확장하기 위해 래퍼 클래스를 만들었고,<br>\n",
    "이것은 우리가 스택러에 여러 학습자를 구현할 때 같은 코드를 반복해서 쓸 필요가 없도록 도와줍니다."
   ]
  },
  {
   "cell_type": "markdown",
   "metadata": {
    "_cell_guid": "6f67620d-b531-a2fa-c297-e951970c3c28",
    "_uuid": "4d193c581df258e823aff2796bf015cf906aac99"
   },
   "source": [
    "<a id=\"7\"></a> <br>\n",
    "## 3-2. 예측 불가\n",
    "\n",
    "소개 섹션에서 위에서 언급한 바와 같이,<br>\n",
    "스택은 2단계 모델에 대한 교육을 위해 기본 분류기의 예측을 입력으로 사용한다.\n",
    "\n",
    "그러나 단순히 전체 훈련 데이터에 기초 모델을 학습시키고,<br>\n",
    "전체 테스트 데이터에 대한 예측을 생성한 다음,<br>\n",
    "2차 훈련을 위해 기본 모델을 출력할 수는 없습니다.\n",
    "\n",
    "이는 기본 모델 예측이 이미 테스트 데이터셋을 \"보았기\" 때문에 이러한 예측을 제공할 때 오버 피팅의 위험을 초래합니다."
   ]
  },
  {
   "cell_type": "code",
   "execution_count": 19,
   "metadata": {
    "_cell_guid": "406d0494-1d0c-3126-19d9-bc53127c4249",
    "_uuid": "46a93dc062e973832cecd50246d0d7581aafb02b",
    "collapsed": true
   },
   "outputs": [],
   "source": [
    "def get_oof(clf, x_train, y_train, x_test):\n",
    "    oof_train = np.zeros((ntrain,))\n",
    "    oof_test = np.zeros((ntest,))\n",
    "    oof_test_skf = np.empty((NFOLDS, ntest))\n",
    "\n",
    "    for i, (train_index, test_index) in enumerate(kf):\n",
    "        x_tr = x_train[train_index]\n",
    "        y_tr = y_train[train_index]\n",
    "        x_te = x_train[test_index]\n",
    "\n",
    "        clf.train(x_tr, y_tr)\n",
    "\n",
    "        oof_train[test_index] = clf.predict(x_te)\n",
    "        oof_test_skf[i, :] = clf.predict(x_test)\n",
    "\n",
    "    oof_test[:] = oof_test_skf.mean(axis=0)\n",
    "    return oof_train.reshape(-1, 1), oof_test.reshape(-1, 1)"
   ]
  },
  {
   "cell_type": "markdown",
   "metadata": {
    "_cell_guid": "3cd92196-f7ba-4f14-0fc4-36520fbcb2ca",
    "_uuid": "7b1a7767ae61b6b217a3311e89190b05ab0a4891"
   },
   "source": [
    "[목차로](#0)\n",
    "\n",
    "------------------------------------------------------------------------------------------------\n",
    "<a id=\"8\"></a> <br>\n",
    "# 4. 1단계 : 모델 생성\n",
    "\n",
    "이제 첫 번째 레벨 분류로 다섯 가지 학습 모델을 준비해봅시다.<br>\n",
    "이러한 모델은 모두 Sklearn 라이브러리를 통해 편리하게 호출할 수 있으며 다음과 같이 나열되어 있습니다.\n",
    "\n",
    " 1. Random Forest classifier\n",
    " 2. Extra Trees classifier\n",
    " 3. AdaBoost classifer\n",
    " 4. Gradient Boosting classifer\n",
    " 5. Support Vector Machine(SVM)"
   ]
  },
  {
   "cell_type": "markdown",
   "metadata": {
    "_cell_guid": "0ef6862a-b5cc-6829-f040-d2b2b2c817f3",
    "_uuid": "12e3a5f76fb118ff6906431fc60e7010e33106ad"
   },
   "source": [
    "<a id=\"9\"></a> <br>\n",
    "## 4-1. 파라미터 이해하기\n",
    "\n",
    "완전성을 위해 여기에 나열할 매개변수를 간략하게 요약하면 다음과 같습니다.\n",
    "\n",
    "**n_jobs** : 교육 프로세스에 사용되는 코어 수. -1로 설정하면 모든 코어가 사용됩니다.\n",
    "\n",
    "**n_estimators** : 학습 모델의 분류 트리 수(기본값당 10개로 설정됨)\n",
    "\n",
    "**max_deep** : 트리의 최대 깊이 또는 노드를 확장해야 하는 크기. 너무 높게 설정하면 나무가 너무 깊이 자랄 위험이 있으므로 주의하세요.\n",
    "\n",
    "**verbose** : 학습 과정 중에 텍스트를 출력할지 여부 제어. 0 값은 모든 텍스트를 억제하는 반면 3 값은 반복할 때마다 트리 학습 프로세스를 출력합니다.\n",
    "\n",
    "공식 Sklearn 웹 사이트를 통해 전체 설명을 확인하세요.<br>\n",
    "거기서 당신은 당신이 가지고 놀 수 있는 많은 다른 유용한 매개변수들이 있다는 것을 알게 될 것입니다."
   ]
  },
  {
   "cell_type": "code",
   "execution_count": 20,
   "metadata": {
    "_cell_guid": "6e634aba-90b6-0620-eceb-3e1a39fbfedc",
    "_uuid": "d77772886c0125e022d1fbb39cd484c95121d74d",
    "collapsed": true
   },
   "outputs": [],
   "source": [
    "# 해당 분류기에 대한 매개 변수 입력\n",
    "\n",
    "# Random Forest parameters\n",
    "rf_params = {\n",
    "    'n_jobs': -1,\n",
    "    'n_estimators': 500,\n",
    "     'warm_start': True, \n",
    "     #'max_features': 0.2,\n",
    "    'max_depth': 6,\n",
    "    'min_samples_leaf': 2,\n",
    "    'max_features' : 'sqrt',\n",
    "    'verbose': 0\n",
    "}\n",
    "\n",
    "# Extra Trees Parameters\n",
    "et_params = {\n",
    "    'n_jobs': -1,\n",
    "    'n_estimators':500,\n",
    "    #'max_features': 0.5,\n",
    "    'max_depth': 8,\n",
    "    'min_samples_leaf': 2,\n",
    "    'verbose': 0\n",
    "}\n",
    "\n",
    "# AdaBoost parameters\n",
    "ada_params = {\n",
    "    'n_estimators': 500,\n",
    "    'learning_rate' : 0.75\n",
    "}\n",
    "\n",
    "# Gradient Boosting parameters\n",
    "gb_params = {\n",
    "    'n_estimators': 500,\n",
    "     #'max_features': 0.2,\n",
    "    'max_depth': 5,\n",
    "    'min_samples_leaf': 2,\n",
    "    'verbose': 0\n",
    "}\n",
    "\n",
    "# Support Vector Classifier parameters \n",
    "svc_params = {\n",
    "    'kernel' : 'linear',\n",
    "    'C' : 0.025\n",
    "    }"
   ]
  },
  {
   "cell_type": "markdown",
   "metadata": {
    "_cell_guid": "ee6325d7-a7c1-c767-fcba-4c59eaa83787",
    "_uuid": "4a49a6c0cbe7028035b6efb7f9374084f3fa152a"
   },
   "source": [
    "게다가 OOP 프레임워크 내의 개체와 클래스에 대해 언급했으므로,<br>\n",
    "이제 앞에서 정의한 Helper Sklearn 클래스를 통해 5개의 학습 모델을 나타내는 5개의 개체를 생성해 봅시다."
   ]
  },
  {
   "cell_type": "code",
   "execution_count": 21,
   "metadata": {
    "_cell_guid": "6798243f-5ff9-527b-01b1-09cfe62284bb",
    "_uuid": "3bd54b4dfbbedc86d6c415cf83936bb8cd6c0973",
    "collapsed": true
   },
   "outputs": [],
   "source": [
    "# 5개의 객체 생성\n",
    "rf = SklearnHelper(clf=RandomForestClassifier, seed=SEED, params=rf_params)\n",
    "et = SklearnHelper(clf=ExtraTreesClassifier, seed=SEED, params=et_params)\n",
    "ada = SklearnHelper(clf=AdaBoostClassifier, seed=SEED, params=ada_params)\n",
    "gb = SklearnHelper(clf=GradientBoostingClassifier, seed=SEED, params=gb_params)\n",
    "svc = SklearnHelper(clf=SVC, seed=SEED, params=svc_params)"
   ]
  },
  {
   "cell_type": "markdown",
   "metadata": {
    "_cell_guid": "46e1e6fc-92e2-e7e2-1ab9-470e6c7039ce",
    "_uuid": "cd3f527543e61b3841f242b744c3c5d9af608941"
   },
   "source": [
    "<a id=\"10\"></a> <br>\n",
    "## 4-2. 훈련 데이터 및 테스트 데이터에서 NumPy를 이용한 array 생성\n",
    "\n",
    "좋습니다. 위에서 첫 번째 계층 기본 모델을 준비했으니,<br>\n",
    "이제 NumPy array를 원래 데이터 프레임에서 다음과 같이 생성하여 분류기에 입력하기 위한 훈련 및 테스트 데이터를 준비할 수 있습니다."
   ]
  },
  {
   "cell_type": "code",
   "execution_count": 22,
   "metadata": {
    "_cell_guid": "968cbd7f-80b2-7f8d-2ad6-b68b3aeae671",
    "_uuid": "95fdd1e8cd9f23cfcef3bed92511da084a323c55",
    "collapsed": true
   },
   "outputs": [],
   "source": [
    "# Seagate 모델에 공급할 훈련, 테스트 및 타깃(Survived) 데이터 프레임의 축소된 배열 생성\n",
    "y_train = train['Survived'].ravel()\n",
    "train = train.drop(['Survived'], axis=1)\n",
    "x_train = train.values # Creates an array of the train data\n",
    "x_test = test.values # Creats an array of the test data"
   ]
  },
  {
   "cell_type": "markdown",
   "metadata": {
    "_cell_guid": "606b619c-2301-8aaa-a5de-781d981c4a6f",
    "_uuid": "d30ac9528b69cdaec565b647fee98a92391112c9"
   },
   "source": [
    "<a id=\"11\"></a> <br>\n",
    "## 4-3. 1단계 예측 결과\n",
    "\n",
    "우리는 이제 훈련과 테스트 데이터를 5개의 기본 분류기에 입력하고<br>\n",
    "앞에서 정의한 예측 기능을 사용하여 첫 번째 수준의 예측을 생성할 것입니다.\n",
    "\n",
    "아래 코드가 실행될 때까지 몇 분 정도 기다리세요."
   ]
  },
  {
   "cell_type": "code",
   "execution_count": 23,
   "metadata": {
    "_cell_guid": "79bd2a86-82e2-648a-e816-9660e89794ad",
    "_uuid": "114750e2d5e4fdd234ccd8647fc349463a56fa09",
    "collapsed": true
   },
   "outputs": [
    {
     "name": "stdout",
     "output_type": "stream",
     "text": [
      "Training is complete\n"
     ]
    }
   ],
   "source": [
    "# OOF 훈련 및 테스트 데이터에 대한 예측 생성(이 결과는 새로운 변수로 사용됨)\n",
    "et_oof_train, et_oof_test = get_oof(et, x_train, y_train, x_test) # Extra Trees\n",
    "rf_oof_train, rf_oof_test = get_oof(rf,x_train, y_train, x_test) # Random Forest\n",
    "ada_oof_train, ada_oof_test = get_oof(ada, x_train, y_train, x_test) # AdaBoost \n",
    "gb_oof_train, gb_oof_test = get_oof(gb,x_train, y_train, x_test) # Gradient Boost\n",
    "svc_oof_train, svc_oof_test = get_oof(svc,x_train, y_train, x_test) # Support Vector Classifier\n",
    "\n",
    "print(\"Training is complete\")"
   ]
  },
  {
   "cell_type": "markdown",
   "metadata": {
    "_cell_guid": "3f292e65-fe8a-d662-6ace-41a19866d671",
    "_uuid": "4cf41b3d9a541c9d39b645a66c8f1116eaf76861"
   },
   "source": [
    "<a id=\"12\"></a> <br>\n",
    "## 4-4. 서로 다른 분류기로부터 생성된 변수의 중요도\n",
    "\n",
    "첫 번째 수준의 분류기를 배웠으니 우리는 sklearn 모델의 매우 민첩한 특징을 활용할 수 있고,<br>\n",
    "이는 훈련 및 테스트 데이터셋의 다양한 특징들을 하나의 매우 단순한 코드 라인으로 출력할 수 있습니다.\n",
    "\n",
    "Sklearn 설명서에 따르면\n",
    "대부분의 분류자는 **.feature_importions_**을 입력하기만 하면 피쳐 가져오기 기능을 반환하는 속성으로 내장되어 있습니다.<br>\n",
    "그러므로 우리는 우리의 함수 귀사를 통해 매우 유용한 속성을 호출하고 다음과 같은 특징적 수입원을 표시할 것입니다."
   ]
  },
  {
   "cell_type": "code",
   "execution_count": 24,
   "metadata": {
    "_cell_guid": "ed9cf8b5-95a4-d974-fb11-592214949d1f",
    "_uuid": "b3b0356c8bef0dceb5fcfa7fb7a11359010b2098",
    "collapsed": true
   },
   "outputs": [
    {
     "name": "stdout",
     "output_type": "stream",
     "text": [
      "[ 0.12723212  0.19828616  0.02805507  0.02163451  0.07182503  0.02378753\n",
      "  0.11025597  0.0644748   0.06650686  0.01344234  0.27449962]\n",
      "[ 0.12065052  0.38124091  0.02717613  0.01654814  0.05659005  0.02800833\n",
      "  0.04717079  0.08336801  0.04587051  0.02090829  0.1724683 ]\n",
      "[ 0.03   0.008  0.014  0.068  0.04   0.01   0.696  0.014  0.05   0.004\n",
      "  0.066]\n",
      "[ 0.07690205  0.02876392  0.1097725   0.03425264  0.09209596  0.05440531\n",
      "  0.40467443  0.01572553  0.07170219  0.02805027  0.0836552 ]\n"
     ]
    }
   ],
   "source": [
    "rf_feature = rf.feature_importances(x_train,y_train)\n",
    "et_feature = et.feature_importances(x_train, y_train)\n",
    "ada_feature = ada.feature_importances(x_train, y_train)\n",
    "gb_feature = gb.feature_importances(x_train,y_train)"
   ]
  },
  {
   "cell_type": "markdown",
   "metadata": {
    "_cell_guid": "f1be8fbb-34c0-3f92-c7d2-757fceced507",
    "_uuid": "b0c66aa58b45b917157f47c811e7d222513ddb0d"
   },
   "source": [
    "그러나 아직 변수의 중요도를 완전히 할당하고 저장하는 방법을 알아내지 못했습니다.<br>\n",
    "따라서 위의 코드에서 값을 출력한 다음 아래와 같이 Python 목록에 복사하여 붙여넣을 것이다."
   ]
  },
  {
   "cell_type": "code",
   "execution_count": 25,
   "metadata": {
    "_cell_guid": "bde9b5fd-3100-8f21-053e-45015b99cf65",
    "_uuid": "527425374ec8cd66edc015842f352a95041821c6",
    "collapsed": true
   },
   "outputs": [],
   "source": [
    "# 저자의 결과값\n",
    "\"\"\"\n",
    "rf_features = [0.10474135,  0.21837029,  0.04432652,  0.02249159,  0.05432591,  0.02854371,\n",
    "               0.07570305,  0.01088129 , 0.24247496,  0.13685733 , 0.06128402]\n",
    "et_features = [0.12165657,  0.37098307  ,0.03129623 , 0.01591611 , 0.05525811 , 0.028157,\n",
    "               0.04589793 , 0.02030357 , 0.17289562 , 0.04853517,  0.08910063]\n",
    "ada_features = [0.028 ,   0.008  ,      0.012   ,     0.05866667,   0.032 ,       0.008,\n",
    "                0.04666667 ,  0.     ,      0.05733333,   0.73866667,   0.01066667]\n",
    "gb_features = [0.06796144 , 0.03889349 , 0.07237845 , 0.02628645 , 0.11194395,  0.04778854,\n",
    "               0.05965792 , 0.02774745,  0.07462718,  0.4593142 ,  0.01340093]\n",
    "\"\"\"\n",
    "\n",
    "# 본인의 결과값\n",
    "rf_features = [0.12744467, 0.19878228, 0.03280782, 0.02026083, 0.07062299, 0.02371953,\n",
    "               0.10598414, 0.06506545, 0.06885129, 0.01377609, 0.27268491]\n",
    "et_features = [0.12268921, 0.37993562, 0.02912038, 0.01654575, 0.05556577, 0.02857685,\n",
    "               0.04689155, 0.08409832, 0.04365948, 0.02129523, 0.17162184]\n",
    "ada_features = [0.03, 0.01, 0.02, 0.062, 0.034, 0.008, 0.696, 0.012, 0.05, 0.004, 0.074]\n",
    "gb_features = [0.07202989, 0.03244964, 0.10381478, 0.0322107,  0.08839205, 0.06451757,\n",
    "               0.42717722, 0.02277748, 0.06645172, 0.02087609, 0.06930285]"
   ]
  },
  {
   "cell_type": "markdown",
   "metadata": {
    "_cell_guid": "2a03ad8f-0ea1-5afa-a6e8-56284482c646",
    "_uuid": "d59169f89c5541177f537200a90805420b449001"
   },
   "source": [
    "Plotly 패키지를 통해 쉽게 플롯할 수 있도록 형상 중요 데이터가 들어 있는 목록에서 데이터 프레임을 생성합니다."
   ]
  },
  {
   "cell_type": "code",
   "execution_count": 26,
   "metadata": {
    "_cell_guid": "635a063f-281d-66d4-6572-587ebecd6b4b",
    "_uuid": "6f68b3033a8f185f61d83e80323c2486024f5d4d",
    "collapsed": true
   },
   "outputs": [],
   "source": [
    "cols = train.columns.values\n",
    "# Create a dataframe with features\n",
    "feature_dataframe = pd.DataFrame({'features': cols,\n",
    "                                  'Random Forest feature importances': rf_features,\n",
    "                                  'Extra Trees feature importances': et_features,\n",
    "                                  'AdaBoost feature importances': ada_features,\n",
    "                                  'Gradient Boost feature importances': gb_features})"
   ]
  },
  {
   "cell_type": "markdown",
   "metadata": {
    "_cell_guid": "06b9f410-f93e-0206-b029-24df035eea2b",
    "_uuid": "7e25675f239b0ab008e0264917abff497795681a"
   },
   "source": [
    "<a id=\"13\"></a> <br>\n",
    "## 4-5. Plotly 산점도 그림을 통한 반응적 변수의 중요도\n",
    "\n",
    "저는 이 시점에서 대화형 Plotly 패키지를 사용하여 다음과 같이 \"산점도\"를 호출하여,<br>\n",
    "분산 플롯을 통해 다른 분류기의 형상 가져오기 값을 시각화할 것입니다."
   ]
  },
  {
   "cell_type": "code",
   "execution_count": 27,
   "metadata": {
    "collapsed": true
   },
   "outputs": [
    {
     "data": {
      "application/vnd.plotly.v1+json": {
       "data": [
        {
         "marker": {
          "color": [
           0.12744467,
           0.19878228,
           0.03280782,
           0.02026083,
           0.07062299,
           0.02371953,
           0.10598414,
           0.06506545,
           0.06885129,
           0.01377609,
           0.27268491
          ],
          "colorscale": "Portland",
          "showscale": true,
          "size": 25,
          "sizemode": "diameter",
          "sizeref": 1
         },
         "mode": "markers",
         "text": [
          "Pclass",
          "Sex",
          "Age",
          "Parch",
          "Fare",
          "Embarked",
          "Name_length",
          "Has_Cabin",
          "FamilySize",
          "IsAlone",
          "Title"
         ],
         "type": "scatter",
         "x": [
          "Pclass",
          "Sex",
          "Age",
          "Parch",
          "Fare",
          "Embarked",
          "Name_length",
          "Has_Cabin",
          "FamilySize",
          "IsAlone",
          "Title"
         ],
         "y": [
          0.12744467,
          0.19878228,
          0.03280782,
          0.02026083,
          0.07062299,
          0.02371953,
          0.10598414,
          0.06506545,
          0.06885129,
          0.01377609,
          0.27268491
         ]
        }
       ],
       "layout": {
        "autosize": true,
        "hovermode": "closest",
        "showlegend": false,
        "title": "Random Forest Feature Importance",
        "yaxis": {
         "gridwidth": 2,
         "ticklen": 5,
         "title": "Feature Importance"
        }
       }
      },
      "text/html": [
       "<div id=\"c3b27843-4fea-4e36-b1b6-4f0f5e8e58c1\" style=\"height: 525px; width: 100%;\" class=\"plotly-graph-div\"></div><script type=\"text/javascript\">require([\"plotly\"], function(Plotly) { window.PLOTLYENV=window.PLOTLYENV || {};window.PLOTLYENV.BASE_URL=\"https://plot.ly\";Plotly.newPlot(\"c3b27843-4fea-4e36-b1b6-4f0f5e8e58c1\", [{\"type\": \"scatter\", \"y\": [0.12744467, 0.19878228, 0.03280782, 0.02026083, 0.07062299, 0.02371953, 0.10598414, 0.06506545, 0.06885129, 0.01377609, 0.27268491], \"x\": [\"Pclass\", \"Sex\", \"Age\", \"Parch\", \"Fare\", \"Embarked\", \"Name_length\", \"Has_Cabin\", \"FamilySize\", \"IsAlone\", \"Title\"], \"mode\": \"markers\", \"marker\": {\"sizemode\": \"diameter\", \"sizeref\": 1, \"size\": 25, \"color\": [0.12744467, 0.19878228, 0.03280782, 0.02026083, 0.07062299, 0.02371953, 0.10598414, 0.06506545, 0.06885129, 0.01377609, 0.27268491], \"colorscale\": \"Portland\", \"showscale\": true}, \"text\": [\"Pclass\", \"Sex\", \"Age\", \"Parch\", \"Fare\", \"Embarked\", \"Name_length\", \"Has_Cabin\", \"FamilySize\", \"IsAlone\", \"Title\"]}], {\"autosize\": true, \"title\": \"Random Forest Feature Importance\", \"hovermode\": \"closest\", \"yaxis\": {\"title\": \"Feature Importance\", \"ticklen\": 5, \"gridwidth\": 2}, \"showlegend\": false}, {\"showLink\": true, \"linkText\": \"Export to plot.ly\"})});</script>"
      ],
      "text/vnd.plotly.v1+html": [
       "<div id=\"c3b27843-4fea-4e36-b1b6-4f0f5e8e58c1\" style=\"height: 525px; width: 100%;\" class=\"plotly-graph-div\"></div><script type=\"text/javascript\">require([\"plotly\"], function(Plotly) { window.PLOTLYENV=window.PLOTLYENV || {};window.PLOTLYENV.BASE_URL=\"https://plot.ly\";Plotly.newPlot(\"c3b27843-4fea-4e36-b1b6-4f0f5e8e58c1\", [{\"type\": \"scatter\", \"y\": [0.12744467, 0.19878228, 0.03280782, 0.02026083, 0.07062299, 0.02371953, 0.10598414, 0.06506545, 0.06885129, 0.01377609, 0.27268491], \"x\": [\"Pclass\", \"Sex\", \"Age\", \"Parch\", \"Fare\", \"Embarked\", \"Name_length\", \"Has_Cabin\", \"FamilySize\", \"IsAlone\", \"Title\"], \"mode\": \"markers\", \"marker\": {\"sizemode\": \"diameter\", \"sizeref\": 1, \"size\": 25, \"color\": [0.12744467, 0.19878228, 0.03280782, 0.02026083, 0.07062299, 0.02371953, 0.10598414, 0.06506545, 0.06885129, 0.01377609, 0.27268491], \"colorscale\": \"Portland\", \"showscale\": true}, \"text\": [\"Pclass\", \"Sex\", \"Age\", \"Parch\", \"Fare\", \"Embarked\", \"Name_length\", \"Has_Cabin\", \"FamilySize\", \"IsAlone\", \"Title\"]}], {\"autosize\": true, \"title\": \"Random Forest Feature Importance\", \"hovermode\": \"closest\", \"yaxis\": {\"title\": \"Feature Importance\", \"ticklen\": 5, \"gridwidth\": 2}, \"showlegend\": false}, {\"showLink\": true, \"linkText\": \"Export to plot.ly\"})});</script>"
      ]
     },
     "metadata": {},
     "output_type": "display_data"
    }
   ],
   "source": [
    "# Scatter plot for Random Forest feature importances\n",
    "trace = go.Scatter(y = feature_dataframe['Random Forest feature importances'].values,\n",
    "                   x = feature_dataframe['features'].values,\n",
    "                   mode='markers',\n",
    "                   marker=dict(sizemode = 'diameter', sizeref = 1, size = 25,\n",
    "                               color = feature_dataframe['Random Forest feature importances'].values,\n",
    "                               colorscale='Portland', showscale=True),\n",
    "                   text = feature_dataframe['features'].values)\n",
    "data = [trace]\n",
    "\n",
    "layout= go.Layout(autosize= True,\n",
    "                  title= 'Random Forest Feature Importance',\n",
    "                  hovermode= 'closest',\n",
    "                  yaxis=dict(title='Feature Importance', ticklen= 5, gridwidth= 2),\n",
    "#                 xaxis= dict(title='Pop', ticklen= 5, zeroline= False, gridwidth= 2),\n",
    "                  showlegend= False)\n",
    "\n",
    "fig = go.Figure(data=data, layout=layout)\n",
    "py.iplot(fig,filename='scatter2010')"
   ]
  },
  {
   "cell_type": "code",
   "execution_count": 28,
   "metadata": {
    "collapsed": true
   },
   "outputs": [
    {
     "data": {
      "application/vnd.plotly.v1+json": {
       "data": [
        {
         "marker": {
          "color": [
           0.12268921,
           0.37993562,
           0.02912038,
           0.01654575,
           0.05556577,
           0.02857685,
           0.04689155,
           0.08409832,
           0.04365948,
           0.02129523,
           0.17162184
          ],
          "colorscale": "Portland",
          "showscale": true,
          "size": 25,
          "sizemode": "diameter",
          "sizeref": 1
         },
         "mode": "markers",
         "text": [
          "Pclass",
          "Sex",
          "Age",
          "Parch",
          "Fare",
          "Embarked",
          "Name_length",
          "Has_Cabin",
          "FamilySize",
          "IsAlone",
          "Title"
         ],
         "type": "scatter",
         "x": [
          "Pclass",
          "Sex",
          "Age",
          "Parch",
          "Fare",
          "Embarked",
          "Name_length",
          "Has_Cabin",
          "FamilySize",
          "IsAlone",
          "Title"
         ],
         "y": [
          0.12268921,
          0.37993562,
          0.02912038,
          0.01654575,
          0.05556577,
          0.02857685,
          0.04689155,
          0.08409832,
          0.04365948,
          0.02129523,
          0.17162184
         ]
        }
       ],
       "layout": {
        "autosize": true,
        "hovermode": "closest",
        "showlegend": false,
        "title": "Extra Trees feature importances",
        "yaxis": {
         "gridwidth": 2,
         "ticklen": 5,
         "title": "Feature Importance"
        }
       }
      },
      "text/html": [
       "<div id=\"f30d6300-32c2-4d24-bc5e-6f1dc75ad83e\" style=\"height: 525px; width: 100%;\" class=\"plotly-graph-div\"></div><script type=\"text/javascript\">require([\"plotly\"], function(Plotly) { window.PLOTLYENV=window.PLOTLYENV || {};window.PLOTLYENV.BASE_URL=\"https://plot.ly\";Plotly.newPlot(\"f30d6300-32c2-4d24-bc5e-6f1dc75ad83e\", [{\"type\": \"scatter\", \"y\": [0.12268921, 0.37993562, 0.02912038, 0.01654575, 0.05556577, 0.02857685, 0.04689155, 0.08409832, 0.04365948, 0.02129523, 0.17162184], \"x\": [\"Pclass\", \"Sex\", \"Age\", \"Parch\", \"Fare\", \"Embarked\", \"Name_length\", \"Has_Cabin\", \"FamilySize\", \"IsAlone\", \"Title\"], \"mode\": \"markers\", \"marker\": {\"sizemode\": \"diameter\", \"sizeref\": 1, \"size\": 25, \"color\": [0.12268921, 0.37993562, 0.02912038, 0.01654575, 0.05556577, 0.02857685, 0.04689155, 0.08409832, 0.04365948, 0.02129523, 0.17162184], \"colorscale\": \"Portland\", \"showscale\": true}, \"text\": [\"Pclass\", \"Sex\", \"Age\", \"Parch\", \"Fare\", \"Embarked\", \"Name_length\", \"Has_Cabin\", \"FamilySize\", \"IsAlone\", \"Title\"]}], {\"autosize\": true, \"title\": \"Extra Trees feature importances\", \"hovermode\": \"closest\", \"yaxis\": {\"title\": \"Feature Importance\", \"ticklen\": 5, \"gridwidth\": 2}, \"showlegend\": false}, {\"showLink\": true, \"linkText\": \"Export to plot.ly\"})});</script>"
      ],
      "text/vnd.plotly.v1+html": [
       "<div id=\"f30d6300-32c2-4d24-bc5e-6f1dc75ad83e\" style=\"height: 525px; width: 100%;\" class=\"plotly-graph-div\"></div><script type=\"text/javascript\">require([\"plotly\"], function(Plotly) { window.PLOTLYENV=window.PLOTLYENV || {};window.PLOTLYENV.BASE_URL=\"https://plot.ly\";Plotly.newPlot(\"f30d6300-32c2-4d24-bc5e-6f1dc75ad83e\", [{\"type\": \"scatter\", \"y\": [0.12268921, 0.37993562, 0.02912038, 0.01654575, 0.05556577, 0.02857685, 0.04689155, 0.08409832, 0.04365948, 0.02129523, 0.17162184], \"x\": [\"Pclass\", \"Sex\", \"Age\", \"Parch\", \"Fare\", \"Embarked\", \"Name_length\", \"Has_Cabin\", \"FamilySize\", \"IsAlone\", \"Title\"], \"mode\": \"markers\", \"marker\": {\"sizemode\": \"diameter\", \"sizeref\": 1, \"size\": 25, \"color\": [0.12268921, 0.37993562, 0.02912038, 0.01654575, 0.05556577, 0.02857685, 0.04689155, 0.08409832, 0.04365948, 0.02129523, 0.17162184], \"colorscale\": \"Portland\", \"showscale\": true}, \"text\": [\"Pclass\", \"Sex\", \"Age\", \"Parch\", \"Fare\", \"Embarked\", \"Name_length\", \"Has_Cabin\", \"FamilySize\", \"IsAlone\", \"Title\"]}], {\"autosize\": true, \"title\": \"Extra Trees feature importances\", \"hovermode\": \"closest\", \"yaxis\": {\"title\": \"Feature Importance\", \"ticklen\": 5, \"gridwidth\": 2}, \"showlegend\": false}, {\"showLink\": true, \"linkText\": \"Export to plot.ly\"})});</script>"
      ]
     },
     "metadata": {},
     "output_type": "display_data"
    }
   ],
   "source": [
    "# Scatter plot for Extra Trees feature importances\n",
    "trace = go.Scatter(y = feature_dataframe['Extra Trees feature importances'].values,\n",
    "                   x = feature_dataframe['features'].values,\n",
    "                   mode='markers',\n",
    "                   marker=dict(sizemode = 'diameter', sizeref = 1, size = 25,\n",
    "                               color = feature_dataframe['Extra Trees feature importances'].values,\n",
    "                               colorscale='Portland', showscale=True),\n",
    "                   text = feature_dataframe['features'].values)\n",
    "data = [trace]\n",
    "\n",
    "layout= go.Layout(autosize= True,\n",
    "                  title='Extra Trees feature importances',\n",
    "                  hovermode= 'closest',\n",
    "                  yaxis=dict(title='Feature Importance', ticklen= 5, gridwidth= 2),\n",
    "#                 xaxis= dict(title='Pop', ticklen= 5, zeroline= False, gridwidth= 2),\n",
    "                  showlegend= False)\n",
    "\n",
    "fig = go.Figure(data=data, layout=layout)\n",
    "py.iplot(fig,filename='scatter2010')"
   ]
  },
  {
   "cell_type": "code",
   "execution_count": 29,
   "metadata": {
    "collapsed": true
   },
   "outputs": [
    {
     "data": {
      "application/vnd.plotly.v1+json": {
       "data": [
        {
         "marker": {
          "color": [
           0.03,
           0.01,
           0.02,
           0.062,
           0.034,
           0.008,
           0.696,
           0.012,
           0.05,
           0.004,
           0.074
          ],
          "colorscale": "Portland",
          "showscale": true,
          "size": 25,
          "sizemode": "diameter",
          "sizeref": 1
         },
         "mode": "markers",
         "text": [
          "Pclass",
          "Sex",
          "Age",
          "Parch",
          "Fare",
          "Embarked",
          "Name_length",
          "Has_Cabin",
          "FamilySize",
          "IsAlone",
          "Title"
         ],
         "type": "scatter",
         "x": [
          "Pclass",
          "Sex",
          "Age",
          "Parch",
          "Fare",
          "Embarked",
          "Name_length",
          "Has_Cabin",
          "FamilySize",
          "IsAlone",
          "Title"
         ],
         "y": [
          0.03,
          0.01,
          0.02,
          0.062,
          0.034,
          0.008,
          0.696,
          0.012,
          0.05,
          0.004,
          0.074
         ]
        }
       ],
       "layout": {
        "autosize": true,
        "hovermode": "closest",
        "showlegend": false,
        "title": "AdaBoost feature importances",
        "yaxis": {
         "gridwidth": 2,
         "ticklen": 5,
         "title": "Feature Importance"
        }
       }
      },
      "text/html": [
       "<div id=\"7f53dce2-8c09-412e-b24f-36a5550fe174\" style=\"height: 525px; width: 100%;\" class=\"plotly-graph-div\"></div><script type=\"text/javascript\">require([\"plotly\"], function(Plotly) { window.PLOTLYENV=window.PLOTLYENV || {};window.PLOTLYENV.BASE_URL=\"https://plot.ly\";Plotly.newPlot(\"7f53dce2-8c09-412e-b24f-36a5550fe174\", [{\"type\": \"scatter\", \"y\": [0.03, 0.01, 0.02, 0.062, 0.034, 0.008, 0.696, 0.012, 0.05, 0.004, 0.074], \"x\": [\"Pclass\", \"Sex\", \"Age\", \"Parch\", \"Fare\", \"Embarked\", \"Name_length\", \"Has_Cabin\", \"FamilySize\", \"IsAlone\", \"Title\"], \"mode\": \"markers\", \"marker\": {\"sizemode\": \"diameter\", \"sizeref\": 1, \"size\": 25, \"color\": [0.03, 0.01, 0.02, 0.062, 0.034, 0.008, 0.696, 0.012, 0.05, 0.004, 0.074], \"colorscale\": \"Portland\", \"showscale\": true}, \"text\": [\"Pclass\", \"Sex\", \"Age\", \"Parch\", \"Fare\", \"Embarked\", \"Name_length\", \"Has_Cabin\", \"FamilySize\", \"IsAlone\", \"Title\"]}], {\"autosize\": true, \"title\": \"AdaBoost feature importances\", \"hovermode\": \"closest\", \"yaxis\": {\"title\": \"Feature Importance\", \"ticklen\": 5, \"gridwidth\": 2}, \"showlegend\": false}, {\"showLink\": true, \"linkText\": \"Export to plot.ly\"})});</script>"
      ],
      "text/vnd.plotly.v1+html": [
       "<div id=\"7f53dce2-8c09-412e-b24f-36a5550fe174\" style=\"height: 525px; width: 100%;\" class=\"plotly-graph-div\"></div><script type=\"text/javascript\">require([\"plotly\"], function(Plotly) { window.PLOTLYENV=window.PLOTLYENV || {};window.PLOTLYENV.BASE_URL=\"https://plot.ly\";Plotly.newPlot(\"7f53dce2-8c09-412e-b24f-36a5550fe174\", [{\"type\": \"scatter\", \"y\": [0.03, 0.01, 0.02, 0.062, 0.034, 0.008, 0.696, 0.012, 0.05, 0.004, 0.074], \"x\": [\"Pclass\", \"Sex\", \"Age\", \"Parch\", \"Fare\", \"Embarked\", \"Name_length\", \"Has_Cabin\", \"FamilySize\", \"IsAlone\", \"Title\"], \"mode\": \"markers\", \"marker\": {\"sizemode\": \"diameter\", \"sizeref\": 1, \"size\": 25, \"color\": [0.03, 0.01, 0.02, 0.062, 0.034, 0.008, 0.696, 0.012, 0.05, 0.004, 0.074], \"colorscale\": \"Portland\", \"showscale\": true}, \"text\": [\"Pclass\", \"Sex\", \"Age\", \"Parch\", \"Fare\", \"Embarked\", \"Name_length\", \"Has_Cabin\", \"FamilySize\", \"IsAlone\", \"Title\"]}], {\"autosize\": true, \"title\": \"AdaBoost feature importances\", \"hovermode\": \"closest\", \"yaxis\": {\"title\": \"Feature Importance\", \"ticklen\": 5, \"gridwidth\": 2}, \"showlegend\": false}, {\"showLink\": true, \"linkText\": \"Export to plot.ly\"})});</script>"
      ]
     },
     "metadata": {},
     "output_type": "display_data"
    }
   ],
   "source": [
    "# Scatter plot for AdaBoost feature importances\n",
    "trace = go.Scatter(y = feature_dataframe['AdaBoost feature importances'].values,\n",
    "                   x = feature_dataframe['features'].values,\n",
    "                   mode='markers',\n",
    "                   marker=dict(sizemode = 'diameter', sizeref = 1, size = 25,\n",
    "                               color = feature_dataframe['AdaBoost feature importances'].values,\n",
    "                               colorscale='Portland', showscale=True),\n",
    "                   text = feature_dataframe['features'].values)\n",
    "data = [trace]\n",
    "\n",
    "layout= go.Layout(autosize= True,\n",
    "                  title='AdaBoost feature importances',\n",
    "                  hovermode= 'closest',\n",
    "                  yaxis=dict(title='Feature Importance', ticklen= 5, gridwidth= 2),\n",
    "#                 xaxis= dict(title='Pop', ticklen= 5, zeroline= False, gridwidth= 2),\n",
    "                  showlegend= False)\n",
    "\n",
    "fig = go.Figure(data=data, layout=layout)\n",
    "py.iplot(fig,filename='scatter2010')"
   ]
  },
  {
   "cell_type": "code",
   "execution_count": 30,
   "metadata": {
    "_cell_guid": "1ac351c6-83c6-c35b-9d66-64f16b5d073f",
    "_uuid": "d8ee9114cd391433835f1272ef81d0a729c78b71",
    "collapsed": true
   },
   "outputs": [
    {
     "data": {
      "application/vnd.plotly.v1+json": {
       "data": [
        {
         "marker": {
          "color": [
           0.07202989,
           0.03244964,
           0.10381478,
           0.0322107,
           0.08839205,
           0.06451757,
           0.42717722,
           0.02277748,
           0.06645172,
           0.02087609,
           0.06930285
          ],
          "colorscale": "Portland",
          "showscale": true,
          "size": 25,
          "sizemode": "diameter",
          "sizeref": 1
         },
         "mode": "markers",
         "text": [
          "Pclass",
          "Sex",
          "Age",
          "Parch",
          "Fare",
          "Embarked",
          "Name_length",
          "Has_Cabin",
          "FamilySize",
          "IsAlone",
          "Title"
         ],
         "type": "scatter",
         "x": [
          "Pclass",
          "Sex",
          "Age",
          "Parch",
          "Fare",
          "Embarked",
          "Name_length",
          "Has_Cabin",
          "FamilySize",
          "IsAlone",
          "Title"
         ],
         "y": [
          0.07202989,
          0.03244964,
          0.10381478,
          0.0322107,
          0.08839205,
          0.06451757,
          0.42717722,
          0.02277748,
          0.06645172,
          0.02087609,
          0.06930285
         ]
        }
       ],
       "layout": {
        "autosize": true,
        "hovermode": "closest",
        "showlegend": false,
        "title": "Gradient Boost feature importances",
        "yaxis": {
         "gridwidth": 2,
         "ticklen": 5,
         "title": "Feature Importance"
        }
       }
      },
      "text/html": [
       "<div id=\"a5d2a847-0de3-490c-a90d-3d3b5e8304e6\" style=\"height: 525px; width: 100%;\" class=\"plotly-graph-div\"></div><script type=\"text/javascript\">require([\"plotly\"], function(Plotly) { window.PLOTLYENV=window.PLOTLYENV || {};window.PLOTLYENV.BASE_URL=\"https://plot.ly\";Plotly.newPlot(\"a5d2a847-0de3-490c-a90d-3d3b5e8304e6\", [{\"type\": \"scatter\", \"y\": [0.07202989, 0.03244964, 0.10381478, 0.0322107, 0.08839205, 0.06451757, 0.42717722, 0.02277748, 0.06645172, 0.02087609, 0.06930285], \"x\": [\"Pclass\", \"Sex\", \"Age\", \"Parch\", \"Fare\", \"Embarked\", \"Name_length\", \"Has_Cabin\", \"FamilySize\", \"IsAlone\", \"Title\"], \"mode\": \"markers\", \"marker\": {\"sizemode\": \"diameter\", \"sizeref\": 1, \"size\": 25, \"color\": [0.07202989, 0.03244964, 0.10381478, 0.0322107, 0.08839205, 0.06451757, 0.42717722, 0.02277748, 0.06645172, 0.02087609, 0.06930285], \"colorscale\": \"Portland\", \"showscale\": true}, \"text\": [\"Pclass\", \"Sex\", \"Age\", \"Parch\", \"Fare\", \"Embarked\", \"Name_length\", \"Has_Cabin\", \"FamilySize\", \"IsAlone\", \"Title\"]}], {\"autosize\": true, \"title\": \"Gradient Boost feature importances\", \"hovermode\": \"closest\", \"yaxis\": {\"title\": \"Feature Importance\", \"ticklen\": 5, \"gridwidth\": 2}, \"showlegend\": false}, {\"showLink\": true, \"linkText\": \"Export to plot.ly\"})});</script>"
      ],
      "text/vnd.plotly.v1+html": [
       "<div id=\"a5d2a847-0de3-490c-a90d-3d3b5e8304e6\" style=\"height: 525px; width: 100%;\" class=\"plotly-graph-div\"></div><script type=\"text/javascript\">require([\"plotly\"], function(Plotly) { window.PLOTLYENV=window.PLOTLYENV || {};window.PLOTLYENV.BASE_URL=\"https://plot.ly\";Plotly.newPlot(\"a5d2a847-0de3-490c-a90d-3d3b5e8304e6\", [{\"type\": \"scatter\", \"y\": [0.07202989, 0.03244964, 0.10381478, 0.0322107, 0.08839205, 0.06451757, 0.42717722, 0.02277748, 0.06645172, 0.02087609, 0.06930285], \"x\": [\"Pclass\", \"Sex\", \"Age\", \"Parch\", \"Fare\", \"Embarked\", \"Name_length\", \"Has_Cabin\", \"FamilySize\", \"IsAlone\", \"Title\"], \"mode\": \"markers\", \"marker\": {\"sizemode\": \"diameter\", \"sizeref\": 1, \"size\": 25, \"color\": [0.07202989, 0.03244964, 0.10381478, 0.0322107, 0.08839205, 0.06451757, 0.42717722, 0.02277748, 0.06645172, 0.02087609, 0.06930285], \"colorscale\": \"Portland\", \"showscale\": true}, \"text\": [\"Pclass\", \"Sex\", \"Age\", \"Parch\", \"Fare\", \"Embarked\", \"Name_length\", \"Has_Cabin\", \"FamilySize\", \"IsAlone\", \"Title\"]}], {\"autosize\": true, \"title\": \"Gradient Boost feature importances\", \"hovermode\": \"closest\", \"yaxis\": {\"title\": \"Feature Importance\", \"ticklen\": 5, \"gridwidth\": 2}, \"showlegend\": false}, {\"showLink\": true, \"linkText\": \"Export to plot.ly\"})});</script>"
      ]
     },
     "metadata": {},
     "output_type": "display_data"
    }
   ],
   "source": [
    "# Scatter plot for Gradient Boost feature importances\n",
    "trace = go.Scatter(y = feature_dataframe['Gradient Boost feature importances'].values,\n",
    "                   x = feature_dataframe['features'].values,\n",
    "                   mode='markers',\n",
    "                   marker=dict(sizemode = 'diameter', sizeref = 1, size = 25,\n",
    "                               color = feature_dataframe['Gradient Boost feature importances'].values,\n",
    "                               colorscale='Portland', showscale=True),\n",
    "                   text = feature_dataframe['features'].values)\n",
    "data = [trace]\n",
    "\n",
    "layout= go.Layout(autosize= True,\n",
    "                  title='Gradient Boost feature importances',\n",
    "                  hovermode= 'closest',\n",
    "                  yaxis=dict(title='Feature Importance', ticklen= 5, gridwidth= 2),\n",
    "#                 xaxis= dict(title='Pop', ticklen= 5, zeroline= False, gridwidth= 2),\n",
    "                  showlegend= False)\n",
    "\n",
    "fig = go.Figure(data=data, layout=layout)\n",
    "py.iplot(fig,filename='scatter2010')"
   ]
  },
  {
   "cell_type": "markdown",
   "metadata": {
    "_cell_guid": "553828f0-c994-5ee1-695f-9373f11a1a7b",
    "_uuid": "9d7b8fdd0c3102d7e3ddcffaf26ce19b02e5ad74"
   },
   "source": [
    "이제 모든 형상 가져오기 평균을 계산하여 형상 중요도 데이터 프레임에 새 열로 저장해 둡시다."
   ]
  },
  {
   "cell_type": "code",
   "execution_count": 31,
   "metadata": {
    "_cell_guid": "06847850-a829-0858-b12c-7b66e53e030a",
    "_uuid": "f611812e2c9de3773df2264dfb2b13c0995807ac",
    "collapsed": true
   },
   "outputs": [
    {
     "data": {
      "text/html": [
       "<div>\n",
       "<style scoped>\n",
       "    .dataframe tbody tr th:only-of-type {\n",
       "        vertical-align: middle;\n",
       "    }\n",
       "\n",
       "    .dataframe tbody tr th {\n",
       "        vertical-align: top;\n",
       "    }\n",
       "\n",
       "    .dataframe thead th {\n",
       "        text-align: right;\n",
       "    }\n",
       "</style>\n",
       "<table border=\"1\" class=\"dataframe\">\n",
       "  <thead>\n",
       "    <tr style=\"text-align: right;\">\n",
       "      <th></th>\n",
       "      <th>features</th>\n",
       "      <th>Random Forest feature importances</th>\n",
       "      <th>Extra Trees feature importances</th>\n",
       "      <th>AdaBoost feature importances</th>\n",
       "      <th>Gradient Boost feature importances</th>\n",
       "      <th>mean</th>\n",
       "    </tr>\n",
       "  </thead>\n",
       "  <tbody>\n",
       "    <tr>\n",
       "      <th>0</th>\n",
       "      <td>Pclass</td>\n",
       "      <td>0.127445</td>\n",
       "      <td>0.122689</td>\n",
       "      <td>0.03</td>\n",
       "      <td>0.072030</td>\n",
       "      <td>0.088041</td>\n",
       "    </tr>\n",
       "    <tr>\n",
       "      <th>1</th>\n",
       "      <td>Sex</td>\n",
       "      <td>0.198782</td>\n",
       "      <td>0.379936</td>\n",
       "      <td>0.01</td>\n",
       "      <td>0.032450</td>\n",
       "      <td>0.155292</td>\n",
       "    </tr>\n",
       "    <tr>\n",
       "      <th>2</th>\n",
       "      <td>Age</td>\n",
       "      <td>0.032808</td>\n",
       "      <td>0.029120</td>\n",
       "      <td>0.02</td>\n",
       "      <td>0.103815</td>\n",
       "      <td>0.046436</td>\n",
       "    </tr>\n",
       "  </tbody>\n",
       "</table>\n",
       "</div>"
      ],
      "text/plain": [
       "  features    ...         mean\n",
       "0   Pclass    ...     0.088041\n",
       "1      Sex    ...     0.155292\n",
       "2      Age    ...     0.046436\n",
       "\n",
       "[3 rows x 6 columns]"
      ]
     },
     "execution_count": 31,
     "metadata": {},
     "output_type": "execute_result"
    }
   ],
   "source": [
    "# Create the new column containing the average of values\n",
    "\n",
    "feature_dataframe['mean'] = feature_dataframe.mean(axis= 1) # axis = 1 computes the mean row-wise\n",
    "feature_dataframe.head(3)"
   ]
  },
  {
   "cell_type": "markdown",
   "metadata": {
    "_cell_guid": "5645e647-c517-7822-f881-b8d7e38ef5da",
    "_uuid": "1f0aff0896fef90b326fff7816393fef0e0cb992"
   },
   "source": [
    "<a id=\"14\"></a> <br>\n",
    "## 4-6. 평균 변수의 중요도의 Plotly 막대그래프\n",
    "\n",
    "모든 분류기에서 평균 피쳐 중요성을 파악한 후 다음과 같이 Plotly 막대 그래프로 표시할 수 있습니다."
   ]
  },
  {
   "cell_type": "code",
   "execution_count": 32,
   "metadata": {
    "_cell_guid": "63d86121-8c29-4b7f-b2ad-12b0a593f1d6",
    "_uuid": "0bd069388b419fe45306c01825aa3e6f5466ba2b",
    "collapsed": true
   },
   "outputs": [
    {
     "data": {
      "application/vnd.plotly.v1+json": {
       "data": [
        {
         "marker": {
          "color": [
           0.08804094250000001,
           0.15529188500000002,
           0.046435745,
           0.03275432,
           0.0621452025,
           0.0312034875,
           0.3190132275,
           0.0459853125,
           0.057240622500000005,
           0.014986852499999998,
           0.1469024
          ],
          "colorscale": "Portland",
          "reversescale": false,
          "showscale": true
         },
         "opacity": 0.6,
         "type": "bar",
         "width": 0.5,
         "x": [
          "Pclass",
          "Sex",
          "Age",
          "Parch",
          "Fare",
          "Embarked",
          "Name_length",
          "Has_Cabin",
          "FamilySize",
          "IsAlone",
          "Title"
         ],
         "y": [
          0.08804094250000001,
          0.15529188500000002,
          0.046435745,
          0.03275432,
          0.0621452025,
          0.0312034875,
          0.3190132275,
          0.0459853125,
          0.057240622500000005,
          0.014986852499999998,
          0.1469024
         ]
        }
       ],
       "layout": {
        "autosize": true,
        "hovermode": "closest",
        "showlegend": false,
        "title": "Barplots of Mean Feature Importance",
        "yaxis": {
         "gridwidth": 2,
         "ticklen": 5,
         "title": "Feature Importance"
        }
       }
      },
      "text/html": [
       "<div id=\"b8779731-f136-4a31-935c-733ee7bc2610\" style=\"height: 525px; width: 100%;\" class=\"plotly-graph-div\"></div><script type=\"text/javascript\">require([\"plotly\"], function(Plotly) { window.PLOTLYENV=window.PLOTLYENV || {};window.PLOTLYENV.BASE_URL=\"https://plot.ly\";Plotly.newPlot(\"b8779731-f136-4a31-935c-733ee7bc2610\", [{\"type\": \"bar\", \"x\": [\"Pclass\", \"Sex\", \"Age\", \"Parch\", \"Fare\", \"Embarked\", \"Name_length\", \"Has_Cabin\", \"FamilySize\", \"IsAlone\", \"Title\"], \"y\": [0.08804094250000001, 0.15529188500000002, 0.046435745, 0.03275432, 0.0621452025, 0.0312034875, 0.3190132275, 0.0459853125, 0.057240622500000005, 0.014986852499999998, 0.1469024], \"width\": 0.5, \"marker\": {\"color\": [0.08804094250000001, 0.15529188500000002, 0.046435745, 0.03275432, 0.0621452025, 0.0312034875, 0.3190132275, 0.0459853125, 0.057240622500000005, 0.014986852499999998, 0.1469024], \"colorscale\": \"Portland\", \"showscale\": true, \"reversescale\": false}, \"opacity\": 0.6}], {\"autosize\": true, \"title\": \"Barplots of Mean Feature Importance\", \"hovermode\": \"closest\", \"yaxis\": {\"title\": \"Feature Importance\", \"ticklen\": 5, \"gridwidth\": 2}, \"showlegend\": false}, {\"showLink\": true, \"linkText\": \"Export to plot.ly\"})});</script>"
      ],
      "text/vnd.plotly.v1+html": [
       "<div id=\"b8779731-f136-4a31-935c-733ee7bc2610\" style=\"height: 525px; width: 100%;\" class=\"plotly-graph-div\"></div><script type=\"text/javascript\">require([\"plotly\"], function(Plotly) { window.PLOTLYENV=window.PLOTLYENV || {};window.PLOTLYENV.BASE_URL=\"https://plot.ly\";Plotly.newPlot(\"b8779731-f136-4a31-935c-733ee7bc2610\", [{\"type\": \"bar\", \"x\": [\"Pclass\", \"Sex\", \"Age\", \"Parch\", \"Fare\", \"Embarked\", \"Name_length\", \"Has_Cabin\", \"FamilySize\", \"IsAlone\", \"Title\"], \"y\": [0.08804094250000001, 0.15529188500000002, 0.046435745, 0.03275432, 0.0621452025, 0.0312034875, 0.3190132275, 0.0459853125, 0.057240622500000005, 0.014986852499999998, 0.1469024], \"width\": 0.5, \"marker\": {\"color\": [0.08804094250000001, 0.15529188500000002, 0.046435745, 0.03275432, 0.0621452025, 0.0312034875, 0.3190132275, 0.0459853125, 0.057240622500000005, 0.014986852499999998, 0.1469024], \"colorscale\": \"Portland\", \"showscale\": true, \"reversescale\": false}, \"opacity\": 0.6}], {\"autosize\": true, \"title\": \"Barplots of Mean Feature Importance\", \"hovermode\": \"closest\", \"yaxis\": {\"title\": \"Feature Importance\", \"ticklen\": 5, \"gridwidth\": 2}, \"showlegend\": false}, {\"showLink\": true, \"linkText\": \"Export to plot.ly\"})});</script>"
      ]
     },
     "metadata": {},
     "output_type": "display_data"
    }
   ],
   "source": [
    "y = feature_dataframe['mean'].values\n",
    "x = feature_dataframe['features'].values\n",
    "data = [go.Bar(x= x,\n",
    "               y= y,\n",
    "               width = 0.5,\n",
    "               marker=dict(color = feature_dataframe['mean'].values,\n",
    "                           colorscale='Portland',\n",
    "                           showscale=True,\n",
    "                           reversescale = False),\n",
    "               opacity=0.6)]\n",
    "\n",
    "layout= go.Layout(autosize= True,\n",
    "                  title='Barplots of Mean Feature Importance',\n",
    "                  hovermode='closest',\n",
    "#                 xaxis= dict(title='Pop', ticklen=5, zeroline=False, gridwidth=2,),\n",
    "                  yaxis=dict(title='Feature Importance', ticklen=5, gridwidth=2),\n",
    "                  showlegend= False)\n",
    "\n",
    "fig = go.Figure(data=data, layout=layout)\n",
    "py.iplot(fig, filename='bar-direct-labels')"
   ]
  },
  {
   "cell_type": "markdown",
   "metadata": {
    "_cell_guid": "c1201ecc-b07d-f8a1-0870-b8d78c89ebc0",
    "_uuid": "bbb76d189e8d03921caaacfa9545cef894348c7d"
   },
   "source": [
    "[목차로](#0)\n",
    "\n",
    "------------------------------------------------------------------------------------------------\n",
    "<a id=\"15\"></a> <br>\n",
    "# 5. 2단계 : 1단계 출력값으로부터의 예측"
   ]
  },
  {
   "cell_type": "markdown",
   "metadata": {
    "_cell_guid": "6b901750-ccdd-38ca-d8ea-1c361121ec4f",
    "_uuid": "fed132782b73dda8d265065867e7f57c0aed7f50"
   },
   "source": [
    "<a id=\"16\"></a> <br>\n",
    "## 5-1. 새 변수로 첫 번째 레벨 출력\n",
    "\n",
    "이제 우리의 1단계 예측을 얻었으니, 본질적으로 다음 분류기의 훈련 데이터로 사용될 새로운 기능 집합을 구축하는 것이라고 생각할 수 있습니다.\n",
    "\n",
    "아래 코드에 따라, 우리는 새로운 칼럼으로 이전의 분류자들로부터의 1단계 예측을 가지고 있고, 우리는 이것에 대한 다음 분류자를 훈련시키고 있습니다."
   ]
  },
  {
   "cell_type": "code",
   "execution_count": 33,
   "metadata": {
    "_cell_guid": "7330a71c-0b71-87c2-1f4d-dd0f6d6fa586",
    "_uuid": "a5945e93337b87a1a8ee5580856768bbb14c07cd",
    "collapsed": true
   },
   "outputs": [
    {
     "data": {
      "text/html": [
       "<div>\n",
       "<style scoped>\n",
       "    .dataframe tbody tr th:only-of-type {\n",
       "        vertical-align: middle;\n",
       "    }\n",
       "\n",
       "    .dataframe tbody tr th {\n",
       "        vertical-align: top;\n",
       "    }\n",
       "\n",
       "    .dataframe thead th {\n",
       "        text-align: right;\n",
       "    }\n",
       "</style>\n",
       "<table border=\"1\" class=\"dataframe\">\n",
       "  <thead>\n",
       "    <tr style=\"text-align: right;\">\n",
       "      <th></th>\n",
       "      <th>RandomForest</th>\n",
       "      <th>ExtraTrees</th>\n",
       "      <th>AdaBoost</th>\n",
       "      <th>GradientBoost</th>\n",
       "    </tr>\n",
       "  </thead>\n",
       "  <tbody>\n",
       "    <tr>\n",
       "      <th>0</th>\n",
       "      <td>0.0</td>\n",
       "      <td>0.0</td>\n",
       "      <td>0.0</td>\n",
       "      <td>0.0</td>\n",
       "    </tr>\n",
       "    <tr>\n",
       "      <th>1</th>\n",
       "      <td>1.0</td>\n",
       "      <td>1.0</td>\n",
       "      <td>1.0</td>\n",
       "      <td>1.0</td>\n",
       "    </tr>\n",
       "    <tr>\n",
       "      <th>2</th>\n",
       "      <td>1.0</td>\n",
       "      <td>0.0</td>\n",
       "      <td>1.0</td>\n",
       "      <td>1.0</td>\n",
       "    </tr>\n",
       "    <tr>\n",
       "      <th>3</th>\n",
       "      <td>1.0</td>\n",
       "      <td>1.0</td>\n",
       "      <td>1.0</td>\n",
       "      <td>1.0</td>\n",
       "    </tr>\n",
       "    <tr>\n",
       "      <th>4</th>\n",
       "      <td>0.0</td>\n",
       "      <td>0.0</td>\n",
       "      <td>0.0</td>\n",
       "      <td>0.0</td>\n",
       "    </tr>\n",
       "  </tbody>\n",
       "</table>\n",
       "</div>"
      ],
      "text/plain": [
       "   RandomForest  ExtraTrees  AdaBoost  GradientBoost\n",
       "0           0.0         0.0       0.0            0.0\n",
       "1           1.0         1.0       1.0            1.0\n",
       "2           1.0         0.0       1.0            1.0\n",
       "3           1.0         1.0       1.0            1.0\n",
       "4           0.0         0.0       0.0            0.0"
      ]
     },
     "execution_count": 33,
     "metadata": {},
     "output_type": "execute_result"
    }
   ],
   "source": [
    "base_predictions_train = pd.DataFrame({'RandomForest': rf_oof_train.ravel(),\n",
    "                                       'ExtraTrees': et_oof_train.ravel(),\n",
    "                                       'AdaBoost': ada_oof_train.ravel(),\n",
    "                                       'GradientBoost': gb_oof_train.ravel()})\n",
    "base_predictions_train.head()"
   ]
  },
  {
   "cell_type": "markdown",
   "metadata": {
    "_cell_guid": "f69c11db-d84e-8536-4c7e-382fbe67483e",
    "_uuid": "2a6f987bd9b8ffc32a72e21cb8c43a6bc43ba200"
   },
   "source": [
    "<a id=\"17\"></a> <br>\n",
    "## 5-2. 2번째 수준의 훈련 데이터셋에 대한 상관관계 히트맵"
   ]
  },
  {
   "cell_type": "code",
   "execution_count": 34,
   "metadata": {
    "_cell_guid": "4cf590ee-133f-6487-cf5a-53f346893d1c",
    "_uuid": "9714ecaedf7385c5b8ad346ab909215eb9f2abc6",
    "collapsed": true
   },
   "outputs": [
    {
     "data": {
      "application/vnd.plotly.v1+json": {
       "data": [
        {
         "colorscale": "Viridis",
         "reversescale": true,
         "showscale": true,
         "type": "heatmap",
         "x": [
          "RandomForest",
          "ExtraTrees",
          "AdaBoost",
          "GradientBoost"
         ],
         "y": [
          "RandomForest",
          "ExtraTrees",
          "AdaBoost",
          "GradientBoost"
         ],
         "z": [
          [
           1.0,
           0.8758389995130863,
           0.7914566521642549,
           0.7266405151618108
          ],
          [
           0.8758389995130863,
           1.0,
           0.7921888819802,
           0.7135264065714909
          ],
          [
           0.7914566521642549,
           0.7921888819802,
           1.0,
           0.6499896129471601
          ],
          [
           0.7266405151618108,
           0.7135264065714909,
           0.6499896129471601,
           1.0
          ]
         ]
        }
       ],
       "layout": {}
      },
      "text/html": [
       "<div id=\"52b0d234-112d-4a7e-940d-a4a3af3c01bd\" style=\"height: 525px; width: 100%;\" class=\"plotly-graph-div\"></div><script type=\"text/javascript\">require([\"plotly\"], function(Plotly) { window.PLOTLYENV=window.PLOTLYENV || {};window.PLOTLYENV.BASE_URL=\"https://plot.ly\";Plotly.newPlot(\"52b0d234-112d-4a7e-940d-a4a3af3c01bd\", [{\"type\": \"heatmap\", \"z\": [[1.0, 0.8758389995130863, 0.7914566521642549, 0.7266405151618108], [0.8758389995130863, 1.0, 0.7921888819802, 0.7135264065714909], [0.7914566521642549, 0.7921888819802, 1.0, 0.6499896129471601], [0.7266405151618108, 0.7135264065714909, 0.6499896129471601, 1.0]], \"x\": [\"RandomForest\", \"ExtraTrees\", \"AdaBoost\", \"GradientBoost\"], \"y\": [\"RandomForest\", \"ExtraTrees\", \"AdaBoost\", \"GradientBoost\"], \"colorscale\": \"Viridis\", \"showscale\": true, \"reversescale\": true}], {}, {\"showLink\": true, \"linkText\": \"Export to plot.ly\"})});</script>"
      ],
      "text/vnd.plotly.v1+html": [
       "<div id=\"52b0d234-112d-4a7e-940d-a4a3af3c01bd\" style=\"height: 525px; width: 100%;\" class=\"plotly-graph-div\"></div><script type=\"text/javascript\">require([\"plotly\"], function(Plotly) { window.PLOTLYENV=window.PLOTLYENV || {};window.PLOTLYENV.BASE_URL=\"https://plot.ly\";Plotly.newPlot(\"52b0d234-112d-4a7e-940d-a4a3af3c01bd\", [{\"type\": \"heatmap\", \"z\": [[1.0, 0.8758389995130863, 0.7914566521642549, 0.7266405151618108], [0.8758389995130863, 1.0, 0.7921888819802, 0.7135264065714909], [0.7914566521642549, 0.7921888819802, 1.0, 0.6499896129471601], [0.7266405151618108, 0.7135264065714909, 0.6499896129471601, 1.0]], \"x\": [\"RandomForest\", \"ExtraTrees\", \"AdaBoost\", \"GradientBoost\"], \"y\": [\"RandomForest\", \"ExtraTrees\", \"AdaBoost\", \"GradientBoost\"], \"colorscale\": \"Viridis\", \"showscale\": true, \"reversescale\": true}], {}, {\"showLink\": true, \"linkText\": \"Export to plot.ly\"})});</script>"
      ]
     },
     "metadata": {},
     "output_type": "display_data"
    }
   ],
   "source": [
    "data = [go.Heatmap(z=base_predictions_train.astype(float).corr().values,\n",
    "                   x=base_predictions_train.columns.values,\n",
    "                   y=base_predictions_train.columns.values,\n",
    "                   colorscale='Viridis',\n",
    "                   showscale=True,\n",
    "                   reversescale = True)]\n",
    "py.iplot(data, filename='labelled-heatmap')"
   ]
  },
  {
   "cell_type": "markdown",
   "metadata": {
    "_cell_guid": "4d6b61c0-5d72-b02a-3b37-cbf6518d71b6",
    "_uuid": "4d9ef0298b568e43da6925f385403e0d77bd6e33"
   },
   "source": [
    "서로 더 상관없는 훈련된 모델들이 더 좋은 점수를 내는 것의 장점에 대한 기사들과 Kaggle 경쟁상 수상자들의 이야기들이 꽤 있었습니다."
   ]
  },
  {
   "cell_type": "code",
   "execution_count": 35,
   "metadata": {
    "_cell_guid": "6685fa11-497f-3fc2-ab1f-97f92d6eca61",
    "_uuid": "fef365199854ca3fff754399b4699d941b7e43b8",
    "collapsed": true
   },
   "outputs": [],
   "source": [
    "x_train = np.concatenate((et_oof_train, rf_oof_train, ada_oof_train, gb_oof_train, svc_oof_train), axis=1)\n",
    "x_test = np.concatenate((et_oof_test, rf_oof_test, ada_oof_test, gb_oof_test, svc_oof_test), axis=1)"
   ]
  },
  {
   "cell_type": "markdown",
   "metadata": {
    "_cell_guid": "a02a94ab-3c9c-a824-7168-e964c5a0f5d5",
    "_uuid": "65727ae393d3f7118215fde76e4fd5a9d0e9dd6c"
   },
   "source": [
    "이제 x_train과 x_test로 1단계 열차와 테스트 예측에 모두 연계하고 참여했으니 이제 2단계 학습 모델을 장착할 수 있게 되었습니다."
   ]
  },
  {
   "cell_type": "markdown",
   "metadata": {
    "_cell_guid": "628a03ea-933c-7075-a589-0ff7af237dfd",
    "_uuid": "dc4a32e9a8e7c9e611124cba676e5d28240b38be"
   },
   "source": [
    "<a id=\"18\"></a> <br>\n",
    "## 5-3. XGBoost를 통한 2레벨의 학습 모델\n",
    "\n",
    "여기서 우리는 강화된 나무 학습 모델인 XGBoost를 위해 아주 유명한 library를 선택합니다.<br>\n",
    "이는 대규모로 증강된 트리 알고리즘을 최적화하기 위해 만들어졌습니다.\n",
    "\n",
    "알고리즘에 대한 자세한 내용은 [공식 문서][24]를 확인하세요.\n",
    "\n",
    "  [24]: https://xgboost.readthedocs.io/en/latest/\n",
    "\n",
    "어쨌든 우리는 XGBC 분류기를 불러 1차 열차 및 목표 데이터에 맞추고 학습된 모델을 사용하여 다음과 같이 시험 데이터를 예측할 것입니다."
   ]
  },
  {
   "cell_type": "code",
   "execution_count": 36,
   "metadata": {
    "_cell_guid": "3a7c7517-b9a3-3a21-3a7b-299ca37c6843",
    "_uuid": "5155d370069fe6de0fe5105309342ce55130dae8",
    "collapsed": true
   },
   "outputs": [],
   "source": [
    "gbm = xgb.XGBClassifier(n_estimators=2000, max_depth= 4, min_child_weight= 2,\n",
    "                        gamma=0.9, subsample=0.8, colsample_bytree=0.8, # learning_rate = 0.02,\n",
    "                        objective= 'binary:logistic', nthread= -1, scale_pos_weight=1).fit(x_train, y_train)\n",
    "predictions = gbm.predict(x_test)"
   ]
  },
  {
   "cell_type": "markdown",
   "metadata": {
    "_cell_guid": "0a8152d8-6842-ed00-6bc5-47a511adce1c",
    "_uuid": "0101e6b843f6378838874ccfb844ed464b81d627"
   },
   "source": [
    "모델에 사용된 XGBoost 매개 변수를 간단히 요약했습니다.\n",
    "\n",
    "**max_deep**: 트리의 깊이. 너무 높게 설정하면 오버핏의 위험이 발생할 수 있으므로 주의하세요.\n",
    "\n",
    "**gamma** : 트리의 리프 노드에서 추가 파티션을 만드는 데 필요한 최소 손실 감소. 크기가 클수록 알고리즘은 보수적일 것입니다.\n",
    "\n",
    "**eta** : 각 부스팅 단계에서 사용되어 오버피팅 방지"
   ]
  },
  {
   "cell_type": "markdown",
   "metadata": {
    "_cell_guid": "6b4a5c81-e968-d41e-27e4-871481019867",
    "_uuid": "52ac0cd99cee0099d86a180127da42ff7fff960a"
   },
   "source": [
    "<a id=\"19\"></a> <br>\n",
    "## 5-4. 제출파일 작성\n",
    "\n",
    "마침내 모든 1단 및 2단 모델을 교육하고 적합하게 만들었고,<br>\n",
    "이제 다음과 같이 예측을 타이타닉 대회에 제출할 수 있는 적절한 형식으로 출력할 수 있습니다."
   ]
  },
  {
   "cell_type": "code",
   "execution_count": 37,
   "metadata": {
    "_cell_guid": "f5a31787-5fe1-a559-bee9-ad6b6d83ae14",
    "_uuid": "9d607d829dbadd6c72ee01c9735a642435eb53e6",
    "collapsed": true
   },
   "outputs": [],
   "source": [
    "# Generate Submission File \n",
    "StackingSubmission = pd.DataFrame({'PassengerId': PassengerId, 'Survived': predictions})\n",
    "StackingSubmission.to_csv(\"StackingSubmission.csv\", index=False)"
   ]
  },
  {
   "cell_type": "markdown",
   "metadata": {
    "_cell_guid": "9a8f83fd-d0e8-035a-cf7f-25c9012e9373",
    "_uuid": "c32d1d64e1a5f8fbe5f51a0a7afd952ccfdec57e"
   },
   "source": [
    "[목차로](#0)\n",
    "\n",
    "------------------------------------------------------------------------------------------------\n",
    "<a id=\"20\"></a> <br>\n",
    "# 6. 결과\n",
    "\n",
    "**추가 개선을 위한 단계**\n",
    "\n",
    "마지막으로 상기 단계는 앙상블 스택러를 생성하는 매우 간단한 방법임을 유의해야 합니다.<br>\n",
    "가장 높은 수준의 카글 대회에서 만들어진 앙상블에 대해 들어보실 수 있습니다.<br>\n",
    "이 대회는 누적된 분류기와 2단계 이상의 스택 레벨을 포함합니다.\n",
    "\n",
    "점수를 높이기 위해 취할 수 있는 몇 가지 추가 단계는 다음과 같습니다.\n",
    "\n",
    "1. 최적의 매개변수 값을 찾기 위해 모델을 교육할 때 교차 검증 전략을 구현합니다.\n",
    "2. 학습을 위한 보다 다양한 기본 모델을 소개합니다. 결과가 상관없는 것일수록 최종 점수는 더 좋습니다.\n",
    "\n",
    "저는 이 노트북이 학습 모델을 쌓기 위한 작업 대본을 소개하는 데 다소 도움이 되었다고 생각합니다. 다시 한 번 Faron과 Sina에게 감사를 표합니다.<br>\n",
    "일반적으로 스택 또는 앙상블에 대한 기타 우수한 자료는 MLWave 웹사이트에서 볼 수 있습니다. [Kaggle 앙상블 가이드][25]\n",
    "\n",
    "감사합니다.\n",
    "\n",
    "  [25]: http://mlwave.com/kaggle-ensembling-guide/"
   ]
  }
 ],
 "metadata": {
  "_change_revision": 0,
  "_is_fork": false,
  "kernelspec": {
   "display_name": "Python 3",
   "language": "python",
   "name": "python3"
  },
  "language_info": {
   "codemirror_mode": {
    "name": "ipython",
    "version": 3
   },
   "file_extension": ".py",
   "mimetype": "text/x-python",
   "name": "python",
   "nbconvert_exporter": "python",
   "pygments_lexer": "ipython3",
   "version": "3.6.5"
  }
 },
 "nbformat": 4,
 "nbformat_minor": 1
}
